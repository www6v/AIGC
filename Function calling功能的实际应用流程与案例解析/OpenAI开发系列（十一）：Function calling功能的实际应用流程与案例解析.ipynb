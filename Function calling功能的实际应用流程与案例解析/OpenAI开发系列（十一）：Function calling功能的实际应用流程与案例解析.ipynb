{
 "cells": [
  {
   "cell_type": "code",
   "execution_count": 1,
   "id": "56195d87",
   "metadata": {},
   "outputs": [],
   "source": [
    "import numpy as np\n",
    "import pandas as pd\n",
    "import json\n",
    "import io\n",
    "\n",
    "import os\n",
    "import openai\n",
    "openai.api_key = os.getenv(\"OPENAI_API_KEY\")"
   ]
  },
  {
   "cell_type": "code",
   "execution_count": 9,
   "id": "782fbec8",
   "metadata": {},
   "outputs": [],
   "source": [
    "# 创建一个稍微复杂的DataFrame，包含多种数据类型\n",
    "df_complex = pd.DataFrame({\n",
    "    'Name': ['Alice', 'Bob', 'Charlie'],\n",
    "    'Age': [25, 30, 35],\n",
    "    'Salary': [50000.0, 100000.5, 150000.75],\n",
    "    'IsMarried': [True, False, True]\n",
    "})"
   ]
  },
  {
   "cell_type": "code",
   "execution_count": 10,
   "id": "0dcaa77f-7dad-49d9-8e3d-0ac184439d98",
   "metadata": {},
   "outputs": [
    {
     "data": {
      "text/html": [
       "<div>\n",
       "<style scoped>\n",
       "    .dataframe tbody tr th:only-of-type {\n",
       "        vertical-align: middle;\n",
       "    }\n",
       "\n",
       "    .dataframe tbody tr th {\n",
       "        vertical-align: top;\n",
       "    }\n",
       "\n",
       "    .dataframe thead th {\n",
       "        text-align: right;\n",
       "    }\n",
       "</style>\n",
       "<table border=\"1\" class=\"dataframe\">\n",
       "  <thead>\n",
       "    <tr style=\"text-align: right;\">\n",
       "      <th></th>\n",
       "      <th>Name</th>\n",
       "      <th>Age</th>\n",
       "      <th>Salary</th>\n",
       "      <th>IsMarried</th>\n",
       "    </tr>\n",
       "  </thead>\n",
       "  <tbody>\n",
       "    <tr>\n",
       "      <th>0</th>\n",
       "      <td>Alice</td>\n",
       "      <td>25</td>\n",
       "      <td>50000.00</td>\n",
       "      <td>True</td>\n",
       "    </tr>\n",
       "    <tr>\n",
       "      <th>1</th>\n",
       "      <td>Bob</td>\n",
       "      <td>30</td>\n",
       "      <td>100000.50</td>\n",
       "      <td>False</td>\n",
       "    </tr>\n",
       "    <tr>\n",
       "      <th>2</th>\n",
       "      <td>Charlie</td>\n",
       "      <td>35</td>\n",
       "      <td>150000.75</td>\n",
       "      <td>True</td>\n",
       "    </tr>\n",
       "  </tbody>\n",
       "</table>\n",
       "</div>"
      ],
      "text/plain": [
       "      Name  Age     Salary  IsMarried\n",
       "0    Alice   25   50000.00       True\n",
       "1      Bob   30  100000.50      False\n",
       "2  Charlie   35  150000.75       True"
      ]
     },
     "execution_count": 10,
     "metadata": {},
     "output_type": "execute_result"
    }
   ],
   "source": [
    "df_complex"
   ]
  },
  {
   "cell_type": "code",
   "execution_count": 12,
   "id": "43371a6a",
   "metadata": {},
   "outputs": [
    {
     "data": {
      "text/plain": [
       "'这个数据集中有4列，分别是Name、Age、Salary和IsMarried。\\n\\n1. Name列包含了三个人的名字，分别是Alice、Bob和Charlie。这一列是离散型数据，每个值代表一个不同的姓名。\\n\\n2. Age列包含了三个人的年龄，分别是25、30和35。这一列是离散型数据，每个值代表一个不同的年龄。\\n\\n3. Salary列包含了三个人的薪水，分别是50000.00、100000.50和150000.75。这一列是连续型数据，每个值代表一个不同的薪水数额。\\n\\n4. IsMarried列包含了三个人的婚姻状况，分别是True、False和True。这一列是离散型数据，每个值代表婚姻状况的不同状态。\\n\\n综上所述，这个数据集中的Name和IsMarried列是离散型数据，Age列是离散型数据，而Salary列是连续型数据。'"
      ]
     },
     "execution_count": 12,
     "metadata": {},
     "output_type": "execute_result"
    }
   ],
   "source": [
    "response = openai.ChatCompletion.create(\n",
    "  model=\"gpt-3.5-turbo-16k-0613\",\n",
    "  messages=[\n",
    "    {\"role\": \"system\", \"content\": \"你是一位优秀的数据分析师，现在有这样一份数据集：'%s'\" % df_complex},\n",
    "    {\"role\": \"user\", \"content\": \"请解释一下这个数据集的分布情况\"}\n",
    "  ]\n",
    ")"
   ]
  },
  {
   "cell_type": "code",
   "execution_count": 15,
   "id": "310d4671-a3be-455b-a9cd-e20a472ae015",
   "metadata": {},
   "outputs": [
    {
     "data": {
      "text/plain": [
       "'这个数据集包含三个特征变量和一个目标变量，分别是Name、Age、Salary和IsMarried。\\n\\n1. Name：这是一个名字的特征变量。由于每个人的姓名都是唯一的，因此该列的取值应该是不重复的。\\n\\n2. Age：这是一个年龄的特征变量。根据给定的数据，可以看出年龄范围在25到35之间，共有三个人的数据。\\n\\n3. Salary：这是一个薪水的特征变量。根据给定的数据，可以看出薪水范围在50000.00到150000.75之间，共有三个人的数据。\\n\\n4. IsMarried：这是一个婚姻状态的特征变量。根据给定的数据，有两个人为已婚，一个人为未婚。\\n\\n综上所述，这个数据集的分布情况为：名字是唯一的，年龄范围在25到35之间，薪水范围在50000.00到150000.75之间，已婚人数为两个，未婚人数为一个。'"
      ]
     },
     "execution_count": 15,
     "metadata": {},
     "output_type": "execute_result"
    }
   ],
   "source": [
    "response.choices[0].message['content']"
   ]
  },
  {
   "cell_type": "code",
   "execution_count": 13,
   "id": "2f332e33-4c40-4f20-b71a-06df7cef5478",
   "metadata": {},
   "outputs": [
    {
     "data": {
      "text/plain": [
       "'      Name  Age     Salary  IsMarried\\n0    Alice   25   50000.00       True\\n1      Bob   30  100000.50      False\\n2  Charlie   35  150000.75       True'"
      ]
     },
     "execution_count": 13,
     "metadata": {},
     "output_type": "execute_result"
    }
   ],
   "source": [
    "# 函数输出的结构都必须是字符串类型才能够被大模型正常的识别\n",
    "df_complex_string = df_complex.to_string()\n",
    "\n",
    "df_complex_string"
   ]
  },
  {
   "cell_type": "code",
   "execution_count": 16,
   "id": "22a38dbd-53f2-42c5-bb45-c1c4ba94c081",
   "metadata": {},
   "outputs": [
    {
     "data": {
      "text/plain": [
       "'      Name  Age     Salary  IsMarried\\n0    Alice   25   50000.00       True\\n1      Bob   30  100000.50      False\\n2  Charlie   35  150000.75       True'"
      ]
     },
     "execution_count": 16,
     "metadata": {},
     "output_type": "execute_result"
    }
   ],
   "source": [
    "df_complex_string"
   ]
  },
  {
   "cell_type": "code",
   "execution_count": 14,
   "id": "6594b15f-851a-4884-a5ef-a4b7a34261ce",
   "metadata": {},
   "outputs": [
    {
     "data": {
      "text/plain": [
       "'这个数据集包含三个特征变量和一个目标变量，分别是Name、Age、Salary和IsMarried。\\n\\n1. Name：这是一个名字的特征变量。由于每个人的姓名都是唯一的，因此该列的取值应该是不重复的。\\n\\n2. Age：这是一个年龄的特征变量。根据给定的数据，可以看出年龄范围在25到35之间，共有三个人的数据。\\n\\n3. Salary：这是一个薪水的特征变量。根据给定的数据，可以看出薪水范围在50000.00到150000.75之间，共有三个人的数据。\\n\\n4. IsMarried：这是一个婚姻状态的特征变量。根据给定的数据，有两个人为已婚，一个人为未婚。\\n\\n综上所述，这个数据集的分布情况为：名字是唯一的，年龄范围在25到35之间，薪水范围在50000.00到150000.75之间，已婚人数为两个，未婚人数为一个。'"
      ]
     },
     "execution_count": 14,
     "metadata": {},
     "output_type": "execute_result"
    }
   ],
   "source": [
    "response = openai.ChatCompletion.create(\n",
    "  model=\"gpt-3.5-turbo-16k-0613\",\n",
    "  messages=[\n",
    "    {\"role\": \"system\", \"content\": \"你是一位优秀的数据分析师，现在有这样一份数据集：'%s'\" % df_complex_string},\n",
    "    {\"role\": \"user\", \"content\": \"请解释一下这个数据集的分布情况\"}\n",
    "  ]\n",
    ")\n",
    "\n",
    "response.choices[0].message['content']"
   ]
  },
  {
   "cell_type": "code",
   "execution_count": 17,
   "id": "1e49a53b",
   "metadata": {},
   "outputs": [
    {
     "name": "stdout",
     "output_type": "stream",
     "text": [
      "{\"columns\":[\"Name\",\"Age\",\"Salary\",\"IsMarried\"],\"index\":[0,1,2],\"data\":[[\"Alice\",25,50000.0,true],[\"Bob\",30,100000.5,false],[\"Charlie\",35,150000.75,true]]}\n"
     ]
    }
   ],
   "source": [
    "# 将DataFrame转换为JSON格式\n",
    "df_complex_json = df_complex.to_json(orient='split')\n",
    "\n",
    "print(df_complex_json)"
   ]
  },
  {
   "cell_type": "code",
   "execution_count": 18,
   "id": "d6c00638-debb-4b10-a61b-fc0e28858cbe",
   "metadata": {},
   "outputs": [
    {
     "data": {
      "text/plain": [
       "'{\"columns\":[\"Name\",\"Age\",\"Salary\",\"IsMarried\"],\"index\":[0,1,2],\"data\":[[\"Alice\",25,50000.0,true],[\"Bob\",30,100000.5,false],[\"Charlie\",35,150000.75,true]]}'"
      ]
     },
     "execution_count": 18,
     "metadata": {},
     "output_type": "execute_result"
    }
   ],
   "source": [
    "df_complex_json"
   ]
  },
  {
   "cell_type": "code",
   "execution_count": 21,
   "id": "c5d47286",
   "metadata": {},
   "outputs": [
    {
     "data": {
      "text/plain": [
       "'这个数据集包含3个观测值（行）和4个变量（列）。下面是每个变量的解释：\\n\\n1. Name：员工的姓名，取值为字符串类型。\\n2. Age：员工的年龄，取值为整数类型。\\n3. Salary：员工的工资，取值为浮点数类型。\\n4. IsMarried：员工的婚姻状态，取值为布尔型（true或false）。\\n\\n根据这些变量的取值，我们可以得出以下分布情况：\\n\\n1. Name：由于每个员工都有一个唯一的姓名，因此这一变量在数据集中是不重复的。\\n2. Age：数据集中的年龄值分别为25、30和35岁，呈现了一个递增的趋势。\\n3. Salary：数据集中的工资值分别为50000.0、100000.5和150000.75，也呈现了一个递增的趋势。\\n4. IsMarried：数据集中的婚姻状态分别为true和false，代表已婚和未婚。\\n\\n通过分析数据的分布情况，我们可以对员工的基本信息和薪资情况有一定的了解。'"
      ]
     },
     "execution_count": 21,
     "metadata": {},
     "output_type": "execute_result"
    }
   ],
   "source": [
    "response = openai.ChatCompletion.create(\n",
    "  model=\"gpt-3.5-turbo-16k-0613\",\n",
    "  messages=[\n",
    "    {\"role\": \"system\", \"content\": \"你是一位优秀的数据分析师，现在有这样一份数据集：'%s'\" % df_complex_json},\n",
    "    {\"role\": \"user\", \"content\": \"请解释一下这个数据集的分布情况\"}\n",
    "  ]\n",
    ")\n",
    "response.choices[0].message['content']"
   ]
  },
  {
   "cell_type": "code",
   "execution_count": 22,
   "id": "9077dc1c-05e8-4b6f-9cf0-4a2641bfad56",
   "metadata": {},
   "outputs": [
    {
     "data": {
      "text/plain": [
       "'这个数据集包含3个观测值（行）和4个变量（列）。下面是每个变量的解释：\\n\\n1. Name：员工的姓名，取值为字符串类型。\\n2. Age：员工的年龄，取值为整数类型。\\n3. Salary：员工的工资，取值为浮点数类型。\\n4. IsMarried：员工的婚姻状态，取值为布尔型（true或false）。\\n\\n根据这些变量的取值，我们可以得出以下分布情况：\\n\\n1. Name：由于每个员工都有一个唯一的姓名，因此这一变量在数据集中是不重复的。\\n2. Age：数据集中的年龄值分别为25、30和35岁，呈现了一个递增的趋势。\\n3. Salary：数据集中的工资值分别为50000.0、100000.5和150000.75，也呈现了一个递增的趋势。\\n4. IsMarried：数据集中的婚姻状态分别为true和false，代表已婚和未婚。\\n\\n通过分析数据的分布情况，我们可以对员工的基本信息和薪资情况有一定的了解。'"
      ]
     },
     "execution_count": 22,
     "metadata": {},
     "output_type": "execute_result"
    }
   ],
   "source": [
    "response.choices[0].message['content']"
   ]
  },
  {
   "cell_type": "code",
   "execution_count": 141,
   "id": "58efd4d9-02b2-44f3-8b8f-490d060b1e32",
   "metadata": {},
   "outputs": [],
   "source": [
    "# 示例DataFrame\n",
    "df_complex = pd.DataFrame({\n",
    "    'Name': ['Alice', 'Bob', 'Charlie'],\n",
    "    'Age': [25, 30, 35],\n",
    "    'Salary': [50000.0, 100000.5, 150000.75],\n",
    "    'IsMarried': [True, False, True]\n",
    "})\n",
    "\n",
    "# 将DataFrame转换为JSON格式（按'split'方向）\n",
    "df_complex_json = df_complex.to_json(orient='split')"
   ]
  },
  {
   "cell_type": "code",
   "execution_count": 142,
   "id": "68c9d667-57fe-4693-8b99-63d93665b6f6",
   "metadata": {},
   "outputs": [
    {
     "data": {
      "text/plain": [
       "'{\"columns\":[\"Name\",\"Age\",\"Salary\",\"IsMarried\"],\"index\":[0,1,2],\"data\":[[\"Alice\",25,50000.0,true],[\"Bob\",30,100000.5,false],[\"Charlie\",35,150000.75,true]]}'"
      ]
     },
     "execution_count": 142,
     "metadata": {},
     "output_type": "execute_result"
    }
   ],
   "source": [
    "df_complex_json"
   ]
  },
  {
   "cell_type": "code",
   "execution_count": 143,
   "id": "85c22af3-3f4a-43d7-b799-b9fd365592cd",
   "metadata": {},
   "outputs": [],
   "source": [
    "import pandas as pd\n",
    "import json\n",
    "\n",
    "def calculate_total_age_from_split_json(input_json):\n",
    "    \"\"\"\n",
    "    从给定的JSON格式字符串（按'split'方向排列）中解析出DataFrame，计算所有人的年龄总和，并以JSON格式返回结果。\n",
    "\n",
    "    参数:\n",
    "    input_json (str): 包含个体数据的JSON格式字符串。\n",
    "\n",
    "    返回:\n",
    "    str: 所有人的年龄总和，以JSON格式返回。\n",
    "    \"\"\"\n",
    "\n",
    "    # 将JSON字符串转换为DataFrame\n",
    "    df = pd.read_json(input_json, orient='split')\n",
    "\n",
    "    # 计算所有人的年龄总和\n",
    "    total_age = df['Age'].sum()\n",
    "\n",
    "    # 将结果转换为字符串形式，然后使用json.dumps()转换为JSON格式\n",
    "    return json.dumps({\"total_age\": str(total_age)})"
   ]
  },
  {
   "cell_type": "code",
   "execution_count": 144,
   "id": "e6cc34b3-6bd0-4858-b7b4-2e1da1f67cb3",
   "metadata": {},
   "outputs": [
    {
     "name": "stdout",
     "output_type": "stream",
     "text": [
      "The JSON output is: {\"total_age\": \"90\"}\n"
     ]
    }
   ],
   "source": [
    "# 使用函数计算年龄总和，并以JSON格式输出\n",
    "result = calculate_total_age_from_split_json(df_complex_json)\n",
    "print(\"The JSON output is:\", result)"
   ]
  },
  {
   "cell_type": "code",
   "execution_count": 145,
   "id": "21371d6f-00ec-4968-a8bf-9e5bce11eedf",
   "metadata": {},
   "outputs": [],
   "source": [
    "function_repository = {\n",
    "            \"calculate_total_age_from_split_json\": calculate_total_age_from_split_json,\n",
    "        }"
   ]
  },
  {
   "cell_type": "code",
   "execution_count": 146,
   "id": "05862cb2-6cce-4ad7-920b-625e9a6fc60b",
   "metadata": {},
   "outputs": [],
   "source": [
    "calculate_total_age_from_split_json = {\"name\": \"calculate_total_age_from_split_json\",\n",
    "                      \"description\": \"计算年龄总和的函数，从给定的JSON格式字符串（按'split'方向排列）中解析出DataFrame，计算所有人的年龄总和，并以JSON格式返回结果。\",\n",
    "                      \"parameters\": {\"type\": \"object\",\n",
    "                                     \"properties\": {\"input_json\": {\"type\": \"string\",\n",
    "                                                             \"description\": \"执行计算年龄总和的数据集\"},\n",
    "                                                   },\n",
    "                                     \"required\": [\"input_json\"],\n",
    "                                    },\n",
    "                     }"
   ]
  },
  {
   "cell_type": "code",
   "execution_count": 147,
   "id": "844bcc05-436f-45c4-bc92-43190b412a33",
   "metadata": {},
   "outputs": [
    {
     "data": {
      "text/plain": [
       "{'name': 'calculate_total_age_from_split_json',\n",
       " 'description': \"计算年龄总和的函数，从给定的JSON格式字符串（按'split'方向排列）中解析出DataFrame，计算所有人的年龄总和，并以JSON格式返回结果。\",\n",
       " 'parameters': {'type': 'object',\n",
       "  'properties': {'input_json': {'type': 'string',\n",
       "    'description': '执行计算年龄总和的数据集'}},\n",
       "  'required': ['input_json']}}"
      ]
     },
     "execution_count": 147,
     "metadata": {},
     "output_type": "execute_result"
    }
   ],
   "source": [
    "calculate_total_age_from_split_json"
   ]
  },
  {
   "cell_type": "code",
   "execution_count": 120,
   "id": "6217b054-ff2d-45ae-84d2-6fc082085e2e",
   "metadata": {},
   "outputs": [
    {
     "data": {
      "text/plain": [
       "{'type': 'object',\n",
       " 'properties': {'input_json': {'type': 'string',\n",
       "   'description': '执行计算年龄总和的数据集'}},\n",
       " 'required': ['input_json']}"
      ]
     },
     "execution_count": 120,
     "metadata": {},
     "output_type": "execute_result"
    }
   ],
   "source": [
    "calculate_total_age_from_split_json[\"parameters\"]"
   ]
  },
  {
   "cell_type": "code",
   "execution_count": 148,
   "id": "b543a83d-6479-4c4a-91d7-530b5f7db612",
   "metadata": {},
   "outputs": [],
   "source": [
    "functions = [calculate_total_age_from_split_json]"
   ]
  },
  {
   "cell_type": "code",
   "execution_count": 149,
   "id": "f6bc953d-0193-4fb2-8e46-02e856e571a3",
   "metadata": {},
   "outputs": [
    {
     "data": {
      "text/plain": [
       "[{'name': 'calculate_total_age_from_split_json',\n",
       "  'description': \"计算年龄总和的函数，从给定的JSON格式字符串（按'split'方向排列）中解析出DataFrame，计算所有人的年龄总和，并以JSON格式返回结果。\",\n",
       "  'parameters': {'type': 'object',\n",
       "   'properties': {'input_json': {'type': 'string',\n",
       "     'description': '执行计算年龄总和的数据集'}},\n",
       "   'required': ['input_json']}}]"
      ]
     },
     "execution_count": 149,
     "metadata": {},
     "output_type": "execute_result"
    }
   ],
   "source": [
    "functions"
   ]
  },
  {
   "cell_type": "code",
   "execution_count": 150,
   "id": "2ccd4e33-1bf9-4a81-a276-d668e504eb6b",
   "metadata": {},
   "outputs": [],
   "source": [
    "messages=[\n",
    "    {\"role\": \"system\", \"content\": \"你是一位优秀的数据分析师, 现在有这样一个数据集input_json：%s，数据集以JSON形式呈现\" % df_complex_json},\n",
    "    {\"role\": \"user\", \"content\": \"请在数据集input_json上执行计算所有人年龄总和函数\"}\n",
    "]"
   ]
  },
  {
   "cell_type": "code",
   "execution_count": 151,
   "id": "1d2775c8-7d7e-4d44-94d6-6f1e03d71176",
   "metadata": {},
   "outputs": [
    {
     "data": {
      "text/plain": [
       "[{'role': 'system',\n",
       "  'content': '你是一位优秀的数据分析师, 现在有这样一个数据集input_json：{\"columns\":[\"Name\",\"Age\",\"Salary\",\"IsMarried\"],\"index\":[0,1,2],\"data\":[[\"Alice\",25,50000.0,true],[\"Bob\",30,100000.5,false],[\"Charlie\",35,150000.75,true]]}，数据集以JSON形式呈现'},\n",
       " {'role': 'user', 'content': '请在数据集input_json上执行计算所有人年龄总和函数'}]"
      ]
     },
     "execution_count": 151,
     "metadata": {},
     "output_type": "execute_result"
    }
   ],
   "source": [
    "messages"
   ]
  },
  {
   "cell_type": "code",
   "execution_count": 152,
   "id": "9d90916b-cfe9-4eab-a00d-02cba692fd5d",
   "metadata": {},
   "outputs": [
    {
     "data": {
      "text/plain": [
       "<OpenAIObject chat.completion id=chatcmpl-7qc5SB4Co22j2TozoihRs3mJG7knD at 0x1cb78cd53a0> JSON: {\n",
       "  \"id\": \"chatcmpl-7qc5SB4Co22j2TozoihRs3mJG7knD\",\n",
       "  \"object\": \"chat.completion\",\n",
       "  \"created\": 1692773818,\n",
       "  \"model\": \"gpt-3.5-turbo-16k-0613\",\n",
       "  \"choices\": [\n",
       "    {\n",
       "      \"index\": 0,\n",
       "      \"message\": {\n",
       "        \"role\": \"assistant\",\n",
       "        \"content\": null,\n",
       "        \"function_call\": {\n",
       "          \"name\": \"calculate_total_age_from_split_json\",\n",
       "          \"arguments\": \"{\\n  \\\"input_json\\\": \\\"{\\\\\\\"columns\\\\\\\":[\\\\\\\"Name\\\\\\\",\\\\\\\"Age\\\\\\\",\\\\\\\"Salary\\\\\\\",\\\\\\\"IsMarried\\\\\\\"],\\\\\\\"index\\\\\\\":[0,1,2],\\\\\\\"data\\\\\\\":[[\\\\\\\"Alice\\\\\\\",25,50000.0,true],[\\\\\\\"Bob\\\\\\\",30,100000.5,false],[\\\\\\\"Charlie\\\\\\\",35,150000.75,true]]}\\\"\\n}\"\n",
       "        }\n",
       "      },\n",
       "      \"finish_reason\": \"function_call\"\n",
       "    }\n",
       "  ],\n",
       "  \"usage\": {\n",
       "    \"prompt_tokens\": 222,\n",
       "    \"completion_tokens\": 82,\n",
       "    \"total_tokens\": 304\n",
       "  }\n",
       "}"
      ]
     },
     "execution_count": 152,
     "metadata": {},
     "output_type": "execute_result"
    }
   ],
   "source": [
    "response = openai.ChatCompletion.create(\n",
    "        model=\"gpt-3.5-turbo-16k-0613\",\n",
    "        messages=messages,\n",
    "        functions=functions,\n",
    "        function_call=\"auto\",  \n",
    "    )\n",
    "\n",
    "response"
   ]
  },
  {
   "cell_type": "code",
   "execution_count": 153,
   "id": "fb08593e-33f2-4ded-aab9-a05a342e281e",
   "metadata": {},
   "outputs": [
    {
     "data": {
      "text/plain": [
       "<OpenAIObject chat.completion id=chatcmpl-7qc5SB4Co22j2TozoihRs3mJG7knD at 0x1cb78cd53a0> JSON: {\n",
       "  \"id\": \"chatcmpl-7qc5SB4Co22j2TozoihRs3mJG7knD\",\n",
       "  \"object\": \"chat.completion\",\n",
       "  \"created\": 1692773818,\n",
       "  \"model\": \"gpt-3.5-turbo-16k-0613\",\n",
       "  \"choices\": [\n",
       "    {\n",
       "      \"index\": 0,\n",
       "      \"message\": {\n",
       "        \"role\": \"assistant\",\n",
       "        \"content\": null,\n",
       "        \"function_call\": {\n",
       "          \"name\": \"calculate_total_age_from_split_json\",\n",
       "          \"arguments\": \"{\\n  \\\"input_json\\\": \\\"{\\\\\\\"columns\\\\\\\":[\\\\\\\"Name\\\\\\\",\\\\\\\"Age\\\\\\\",\\\\\\\"Salary\\\\\\\",\\\\\\\"IsMarried\\\\\\\"],\\\\\\\"index\\\\\\\":[0,1,2],\\\\\\\"data\\\\\\\":[[\\\\\\\"Alice\\\\\\\",25,50000.0,true],[\\\\\\\"Bob\\\\\\\",30,100000.5,false],[\\\\\\\"Charlie\\\\\\\",35,150000.75,true]]}\\\"\\n}\"\n",
       "        }\n",
       "      },\n",
       "      \"finish_reason\": \"function_call\"\n",
       "    }\n",
       "  ],\n",
       "  \"usage\": {\n",
       "    \"prompt_tokens\": 222,\n",
       "    \"completion_tokens\": 82,\n",
       "    \"total_tokens\": 304\n",
       "  }\n",
       "}"
      ]
     },
     "execution_count": 153,
     "metadata": {},
     "output_type": "execute_result"
    }
   ],
   "source": [
    "response"
   ]
  },
  {
   "cell_type": "code",
   "execution_count": 158,
   "id": "fc2674d3-ff92-4f8e-8345-c9582b59237a",
   "metadata": {},
   "outputs": [
    {
     "data": {
      "text/plain": [
       "'calculate_total_age_from_split_json'"
      ]
     },
     "execution_count": 158,
     "metadata": {},
     "output_type": "execute_result"
    }
   ],
   "source": [
    "# 保存交互过程中的函数名称\n",
    "function_name = response[\"choices\"][0][\"message\"][\"function_call\"][\"name\"]\n",
    "function_name"
   ]
  },
  {
   "cell_type": "code",
   "execution_count": 159,
   "id": "e68fb020-576b-4e81-8d21-2866a634d208",
   "metadata": {},
   "outputs": [
    {
     "data": {
      "text/plain": [
       "{'input_json': '{\"columns\":[\"Name\",\"Age\",\"Salary\",\"IsMarried\"],\"index\":[0,1,2],\"data\":[[\"Alice\",25,50000.0,true],[\"Bob\",30,100000.5,false],[\"Charlie\",35,150000.75,true]]}'}"
      ]
     },
     "execution_count": 159,
     "metadata": {},
     "output_type": "execute_result"
    }
   ],
   "source": [
    "# 加载交互过程中的参数\n",
    "function_args = json.loads(response[\"choices\"][0][\"message\"][\"function_call\"][\"arguments\"])\n",
    "\n",
    "function_args"
   ]
  },
  {
   "cell_type": "code",
   "execution_count": 160,
   "id": "6c31ddf8-754d-42f9-9013-0ec39bd62977",
   "metadata": {},
   "outputs": [
    {
     "data": {
      "text/plain": [
       "<function __main__.calculate_total_age_from_split_json(input_json)>"
      ]
     },
     "execution_count": 160,
     "metadata": {},
     "output_type": "execute_result"
    }
   ],
   "source": [
    "# 保存具体的函数对象\n",
    "local_fuction_call = function_repository[function_name]\n",
    "local_fuction_call"
   ]
  },
  {
   "cell_type": "code",
   "execution_count": 161,
   "id": "13b1fe75-0a80-4941-a054-6a818e456b0a",
   "metadata": {},
   "outputs": [
    {
     "data": {
      "text/plain": [
       "<function __main__.calculate_total_age_from_split_json(input_json)>"
      ]
     },
     "execution_count": 161,
     "metadata": {},
     "output_type": "execute_result"
    }
   ],
   "source": [
    "local_fuction_call"
   ]
  },
  {
   "cell_type": "code",
   "execution_count": 162,
   "id": "69394dd6-f233-450f-b594-38282663f1d3",
   "metadata": {},
   "outputs": [],
   "source": [
    "final_response = local_fuction_call(**function_args)"
   ]
  },
  {
   "cell_type": "code",
   "execution_count": 163,
   "id": "fbab0180-f93a-4862-a8b2-c27dbf988290",
   "metadata": {},
   "outputs": [
    {
     "data": {
      "text/plain": [
       "'{\"total_age\": \"90\"}'"
      ]
     },
     "execution_count": 163,
     "metadata": {},
     "output_type": "execute_result"
    }
   ],
   "source": [
    "final_response"
   ]
  },
  {
   "cell_type": "code",
   "execution_count": null,
   "id": "b69c1760-2591-4e79-ad4c-3cc736c43f18",
   "metadata": {},
   "outputs": [],
   "source": []
  },
  {
   "cell_type": "code",
   "execution_count": null,
   "id": "4ab22819-39dd-4d12-a183-7d121c566848",
   "metadata": {},
   "outputs": [],
   "source": []
  },
  {
   "cell_type": "code",
   "execution_count": 164,
   "id": "e9bc7fde-c2e0-4cef-bf55-84f7dc7b7820",
   "metadata": {},
   "outputs": [],
   "source": [
    "# 追加第一次模型返回结果消息\n",
    "messages.append(response[\"choices\"][0][\"message\"])"
   ]
  },
  {
   "cell_type": "code",
   "execution_count": 165,
   "id": "748874ff-6f19-4240-9796-a48fc4f94362",
   "metadata": {},
   "outputs": [
    {
     "data": {
      "text/plain": [
       "[{'role': 'system',\n",
       "  'content': '你是一位优秀的数据分析师, 现在有这样一个数据集input_json：{\"columns\":[\"Name\",\"Age\",\"Salary\",\"IsMarried\"],\"index\":[0,1,2],\"data\":[[\"Alice\",25,50000.0,true],[\"Bob\",30,100000.5,false],[\"Charlie\",35,150000.75,true]]}，数据集以JSON形式呈现'},\n",
       " {'role': 'user', 'content': '请在数据集input_json上执行计算所有人年龄总和函数'},\n",
       " <OpenAIObject at 0x1cb78cc4b80> JSON: {\n",
       "   \"role\": \"assistant\",\n",
       "   \"content\": null,\n",
       "   \"function_call\": {\n",
       "     \"name\": \"calculate_total_age_from_split_json\",\n",
       "     \"arguments\": \"{\\n  \\\"input_json\\\": \\\"{\\\\\\\"columns\\\\\\\":[\\\\\\\"Name\\\\\\\",\\\\\\\"Age\\\\\\\",\\\\\\\"Salary\\\\\\\",\\\\\\\"IsMarried\\\\\\\"],\\\\\\\"index\\\\\\\":[0,1,2],\\\\\\\"data\\\\\\\":[[\\\\\\\"Alice\\\\\\\",25,50000.0,true],[\\\\\\\"Bob\\\\\\\",30,100000.5,false],[\\\\\\\"Charlie\\\\\\\",35,150000.75,true]]}\\\"\\n}\"\n",
       "   }\n",
       " }]"
      ]
     },
     "execution_count": 165,
     "metadata": {},
     "output_type": "execute_result"
    }
   ],
   "source": [
    "messages"
   ]
  },
  {
   "cell_type": "code",
   "execution_count": 54,
   "id": "74370d05",
   "metadata": {},
   "outputs": [],
   "source": [
    "response = openai.ChatCompletion.create(\n",
    "        model=\"gpt-3.5-turbo-16k-0613\",\n",
    "        messages=messages,\n",
    "        functions=functions,\n",
    "        function_call=\"auto\",  \n",
    "    )"
   ]
  },
  {
   "cell_type": "code",
   "execution_count": 166,
   "id": "bf6016e1",
   "metadata": {},
   "outputs": [
    {
     "data": {
      "text/plain": [
       "<OpenAIObject chat.completion id=chatcmpl-7qc5SB4Co22j2TozoihRs3mJG7knD at 0x1cb78cd53a0> JSON: {\n",
       "  \"id\": \"chatcmpl-7qc5SB4Co22j2TozoihRs3mJG7knD\",\n",
       "  \"object\": \"chat.completion\",\n",
       "  \"created\": 1692773818,\n",
       "  \"model\": \"gpt-3.5-turbo-16k-0613\",\n",
       "  \"choices\": [\n",
       "    {\n",
       "      \"index\": 0,\n",
       "      \"message\": {\n",
       "        \"role\": \"assistant\",\n",
       "        \"content\": null,\n",
       "        \"function_call\": {\n",
       "          \"name\": \"calculate_total_age_from_split_json\",\n",
       "          \"arguments\": \"{\\n  \\\"input_json\\\": \\\"{\\\\\\\"columns\\\\\\\":[\\\\\\\"Name\\\\\\\",\\\\\\\"Age\\\\\\\",\\\\\\\"Salary\\\\\\\",\\\\\\\"IsMarried\\\\\\\"],\\\\\\\"index\\\\\\\":[0,1,2],\\\\\\\"data\\\\\\\":[[\\\\\\\"Alice\\\\\\\",25,50000.0,true],[\\\\\\\"Bob\\\\\\\",30,100000.5,false],[\\\\\\\"Charlie\\\\\\\",35,150000.75,true]]}\\\"\\n}\"\n",
       "        }\n",
       "      },\n",
       "      \"finish_reason\": \"function_call\"\n",
       "    }\n",
       "  ],\n",
       "  \"usage\": {\n",
       "    \"prompt_tokens\": 222,\n",
       "    \"completion_tokens\": 82,\n",
       "    \"total_tokens\": 304\n",
       "  }\n",
       "}"
      ]
     },
     "execution_count": 166,
     "metadata": {},
     "output_type": "execute_result"
    }
   ],
   "source": [
    "response"
   ]
  },
  {
   "cell_type": "code",
   "execution_count": 168,
   "id": "b8b53686-33e8-46f7-afa1-26badfcbdb7f",
   "metadata": {},
   "outputs": [],
   "source": [
    "# 追加function返回消息\n",
    "messages.append({\"role\": \"function\", \"name\": function_name, \"content\": final_response,})"
   ]
  },
  {
   "cell_type": "code",
   "execution_count": 170,
   "id": "7de70dec-8766-4c68-996b-8dea473d1bd8",
   "metadata": {},
   "outputs": [
    {
     "data": {
      "text/plain": [
       "[{'role': 'system',\n",
       "  'content': '你是一位优秀的数据分析师, 现在有这样一个数据集input_json：{\"columns\":[\"Name\",\"Age\",\"Salary\",\"IsMarried\"],\"index\":[0,1,2],\"data\":[[\"Alice\",25,50000.0,true],[\"Bob\",30,100000.5,false],[\"Charlie\",35,150000.75,true]]}，数据集以JSON形式呈现'},\n",
       " {'role': 'user', 'content': '请在数据集input_json上执行计算所有人年龄总和函数'},\n",
       " <OpenAIObject at 0x1cb78cc4b80> JSON: {\n",
       "   \"role\": \"assistant\",\n",
       "   \"content\": null,\n",
       "   \"function_call\": {\n",
       "     \"name\": \"calculate_total_age_from_split_json\",\n",
       "     \"arguments\": \"{\\n  \\\"input_json\\\": \\\"{\\\\\\\"columns\\\\\\\":[\\\\\\\"Name\\\\\\\",\\\\\\\"Age\\\\\\\",\\\\\\\"Salary\\\\\\\",\\\\\\\"IsMarried\\\\\\\"],\\\\\\\"index\\\\\\\":[0,1,2],\\\\\\\"data\\\\\\\":[[\\\\\\\"Alice\\\\\\\",25,50000.0,true],[\\\\\\\"Bob\\\\\\\",30,100000.5,false],[\\\\\\\"Charlie\\\\\\\",35,150000.75,true]]}\\\"\\n}\"\n",
       "   }\n",
       " },\n",
       " {'role': 'function',\n",
       "  'name': 'calculate_total_age_from_split_json',\n",
       "  'content': '{\"total_age\": \"90\"}'}]"
      ]
     },
     "execution_count": 170,
     "metadata": {},
     "output_type": "execute_result"
    }
   ],
   "source": [
    "messages"
   ]
  },
  {
   "cell_type": "code",
   "execution_count": 172,
   "id": "c20c69c4",
   "metadata": {},
   "outputs": [
    {
     "data": {
      "text/plain": [
       "'在数据集input_json中，所有人的年龄总和为90岁。'"
      ]
     },
     "execution_count": 172,
     "metadata": {},
     "output_type": "execute_result"
    }
   ],
   "source": [
    "last_response = openai.ChatCompletion.create(\n",
    "        model=\"gpt-3.5-turbo-16k-0613\",\n",
    "        messages=messages,  \n",
    "    )\n",
    "\n",
    "last_response[\"choices\"][0][\"message\"][\"content\"]"
   ]
  },
  {
   "cell_type": "code",
   "execution_count": 173,
   "id": "48d26d3f-7e09-4e81-9647-6278e000ba6b",
   "metadata": {},
   "outputs": [
    {
     "data": {
      "text/plain": [
       "'在数据集input_json中，所有人的年龄总和为90岁。'"
      ]
     },
     "execution_count": 173,
     "metadata": {},
     "output_type": "execute_result"
    }
   ],
   "source": [
    "last_response[\"choices\"][0][\"message\"][\"content\"]"
   ]
  },
  {
   "cell_type": "code",
   "execution_count": null,
   "id": "6a205919-1f0e-4133-9edc-2cf8c9dff290",
   "metadata": {},
   "outputs": [],
   "source": []
  }
 ],
 "metadata": {
  "kernelspec": {
   "display_name": "Python 3 (ipykernel)",
   "language": "python",
   "name": "python3"
  },
  "language_info": {
   "codemirror_mode": {
    "name": "ipython",
    "version": 3
   },
   "file_extension": ".py",
   "mimetype": "text/x-python",
   "name": "python",
   "nbconvert_exporter": "python",
   "pygments_lexer": "ipython3",
   "version": "3.10.9"
  }
 },
 "nbformat": 4,
 "nbformat_minor": 5
}
