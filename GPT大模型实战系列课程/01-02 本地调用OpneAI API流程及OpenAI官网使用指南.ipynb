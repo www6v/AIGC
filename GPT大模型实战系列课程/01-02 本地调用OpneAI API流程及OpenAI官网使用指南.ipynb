{
 "cells": [
  {
   "cell_type": "markdown",
   "id": "3dc696e4-f399-4a5e-9ac1-70ef93cf532f",
   "metadata": {},
   "source": [
    "# <center>OpenAI在线大模型调用及微调方法"
   ]
  },
  {
   "cell_type": "markdown",
   "id": "4e3b0dfa-4110-46bc-ad62-fea0b3986845",
   "metadata": {},
   "source": [
    "## <center>Ch.1 本地调用OpneAI API流程及OpenAI官网使用指南"
   ]
  },
  {
   "cell_type": "markdown",
   "id": "4a8c6952-6fcd-463b-8169-12e27f2f6b8e",
   "metadata": {},
   "source": [
    "- OpenAI在线大模型调用及微调方法课程内容介绍"
   ]
  },
  {
   "cell_type": "markdown",
   "id": "3cbb6fba-d5dd-4f8f-8369-84734072c87b",
   "metadata": {},
   "source": [
    "&emsp;&emsp;从本节开始，课程将正式进入到大模型技术的学习当中，根据课程安排，大模型技术阶段课程内容将总共分为三部分，分别为OpenAI在线大模型调用及微调方法、ChatGLM中文开源大模型部署使用及微调方法、基于LangChain的AI应用开发方法等。而在第一阶段，我们将首先围绕OpenAI提供的在线大模型API的使用方法进行讲解。        \n",
    "&emsp;&emsp;OpenAI作为本轮大语言模型技术革命的引领着，其发布的一系列大模型时至今日仍然是实践效果最佳的一类大语言模型，其语言模型组包括文本模型、对话模型、Embedding模型、Code模型、图文模型、语音模型等一系列模型，是功能非常完整的模型生态，同时，OpenAI的大语言模型也是目前为数不多的在线推理和微调的大模型，相比需要进行本地部署运行的开源大模型，在线大模型的硬件门槛、调用难度和维护成本都更低，在很多实际开发场景下，OpenAI的在线大模型是当之无愧的最佳选择。因此围绕在线大模型的调用和微调，也成了当下大模型技术人的必修课。而本节开始，我们就将围绕OpenAI最为核心的Completions模型、Chat模型、Embedding模型和Fine-tunes API的调用和使用方法进行详细的介绍，同时配套讲解大语言模型在文本分类、语义提取、文本检索等领域的实践应用方法，并在本节的结束，为大家介绍基于OpenAI API的本地知识库问答系统搭建方法，这也是目前大语言模型最为热门的应用方向。      "
   ]
  },
  {
   "cell_type": "markdown",
   "id": "76d25810-6159-48ac-b97c-aa41f106bd11",
   "metadata": {},
   "source": [
    "- 课前复习      \n",
    "&emsp;&emsp;由于本部分内容较多，且难度较大，因此在正式课程开始前为大家准备了多节基础入门与预习性质的课程，在参与到本节内容学习之前，请务必回顾此前课程的相关内容，并做好以下准备：\n",
    "    - 参考《【预习课】02 OpenAI账号注册》相关内容，准备一个可用的OpenAI账号，便于在在课程中使用；\n",
    "    - 复习《Week 5-1.2 OpenAI在线大模型生态介绍》，重点复习OpenAI目前OpenAI在线大模型整体技术框架以及微调流程；"
   ]
  },
  {
   "cell_type": "markdown",
   "id": "9642abf8-7479-4be0-964d-d105783b3e7a",
   "metadata": {},
   "source": [
    "### 1.OpenAI官网使用指南"
   ]
  },
  {
   "cell_type": "markdown",
   "id": "a2d642fe-0c37-4a52-bc17-cc77cbac77ef",
   "metadata": {},
   "source": [
    "- 官网获取帮助"
   ]
  },
  {
   "cell_type": "markdown",
   "id": "5c98f106-1857-47ab-8b25-d14746fd2bff",
   "metadata": {},
   "source": [
    "&emsp;&emsp;和所有的技术内容学习过程类似，在OpenAI大模型技术学习过程中，OpenAI官网给出的大模型使用说明始终是不可或缺、同时也是最权威的帮助文档。无论遇到什么问题或者有什么技术构思，都应当学会第一时间返回官网进行查阅。在OpenAI的官网中，不仅给出了各类模型详细的参数解释、应用范例，而且还提供了在线调用和测试模型参数的页面。当然，对于OpenAI 大模型使用来说，由于需要根据实际调用API情况进行计费，因此查阅调用API计费规则、查阅账户余额以及及时充值，就变得非常重要，这些信息也需要从OpenAI官网来获得。OpenAI大模型API官网地址：https://platform.openai.com/"
   ]
  },
  {
   "cell_type": "markdown",
   "id": "2e29a3f9-a4db-45b5-a375-426507b65fdb",
   "metadata": {},
   "source": [
    "<center><img src=\"https://ml2022.oss-cn-hangzhou.aliyuncs.com/img/202306232036978.png\" alt=\"4355e8973d457a2db02cb51d7f45244\" style=\"zoom:25%;\" />"
   ]
  },
  {
   "cell_type": "markdown",
   "id": "d87f52ca-1f15-4a57-bce6-d24ea8de2e77",
   "metadata": {},
   "source": [
    "- Documentation：OpenAI大模型使用指南"
   ]
  },
  {
   "cell_type": "markdown",
   "id": "ec4f26f5-b7bf-41ce-b7a1-1cc80ae982ef",
   "metadata": {},
   "source": [
    "&emsp;&emsp;OpenAI官网的课程中Documentation页面提供了非常详细的大模型生态介绍，以及各类大模型简单使用和快速上手指南，若想查阅大模型的一些使用上的极简实例、或者单纯的想理清楚各类模型之间的关系，可以查阅：https://platform.openai.com/docs/introduction"
   ]
  },
  {
   "cell_type": "markdown",
   "id": "72e59076-6fb8-4901-974f-535861a107e0",
   "metadata": {},
   "source": [
    "<center><img src=\"https://ml2022.oss-cn-hangzhou.aliyuncs.com/img/202306232038473.png\" alt=\"4881cf1d522e62966f4e51e6c1ecff4\" style=\"zoom:33%;\" />"
   ]
  },
  {
   "cell_type": "markdown",
   "id": "afd7c896-8ea8-4892-8f2a-cc2e2c67ebe4",
   "metadata": {},
   "source": [
    "当然，在此页面中，有个非常重要的信息值得关注，即每个模型最大输入的文本量限制——对于大模型来说多轮对话的累积输入文本的最大数量是有限的，超出这个限制就会导致之前的文本被逐渐遗忘。在Documentation页面，我们能够详细查看每个模型的MAX TOKENS，表示输入的最大文本限制。"
   ]
  },
  {
   "cell_type": "markdown",
   "id": "5393315b-5155-47b9-a4dc-811b5b99a6e6",
   "metadata": {},
   "source": [
    "<center><img src=\"https://ml2022.oss-cn-hangzhou.aliyuncs.com/img/202306232115877.png\" alt=\"68b935e579090288d85bb4852939750\" style=\"zoom:30%;\" />"
   ]
  },
  {
   "cell_type": "markdown",
   "id": "f4bc9b18-2a12-4297-84c6-e27ba9d02b6e",
   "metadata": {},
   "source": [
    "其中绝大多数模型的MAX TOKENS都是4096tokens，这类模型往往也被称为4k模型，而部分模型的MAX TOKENS都是16384tokens，这是一类最新更新的模型（6月13号更新的模型），且尾缀带有16k标志。"
   ]
  },
  {
   "cell_type": "markdown",
   "id": "65691942-700e-4701-9d6a-8e269b96cbb6",
   "metadata": {},
   "source": [
    "> 一个大概估算的规则是，4K个tokens约等于8000个单词，约4-5页PDF。"
   ]
  },
  {
   "cell_type": "markdown",
   "id": "7ffc2b06-adf5-46e4-aa71-cb5d640aa21e",
   "metadata": {},
   "source": [
    "> 为何输入的最大文本数量是有限的，以及OpenAI大模型完整生态介绍，参考课程《Week 5-1.2 OpenAI在线大模型生态介绍》。"
   ]
  },
  {
   "cell_type": "markdown",
   "id": "9d36bd9f-41f1-4055-b756-60967dfb505b",
   "metadata": {},
   "source": [
    "> OpenAI的6月13号更新是一次重大更新，对很多模型的功能都进行了调整，相关内容稍后会进行介绍。"
   ]
  },
  {
   "cell_type": "markdown",
   "id": "83ef99e5-dd4f-4b3b-98ed-3693eec73cb2",
   "metadata": {},
   "source": [
    "- API reference：API功能及参数详解"
   ]
  },
  {
   "cell_type": "markdown",
   "id": "504e0d89-7c26-4fb5-9f44-61d4bb4f9a24",
   "metadata": {},
   "source": [
    "&emsp;&emsp;第二个需要经常查阅的页面则是著名的API reference页面，这个页面中详细讲解了各模型API的参数解释，是开发人员必不可少的说明手册：https://platform.openai.com/docs/api-reference/introduction"
   ]
  },
  {
   "cell_type": "markdown",
   "id": "9f84c8e7-5e57-4cf2-a4ea-2974d3f4357c",
   "metadata": {},
   "source": [
    "<center><img src=\"https://ml2022.oss-cn-hangzhou.aliyuncs.com/img/202306232040141.png\" alt=\"d83a5c4ce17bd81d64029b61f8f3273\" style=\"zoom:30%;\" />"
   ]
  },
  {
   "cell_type": "markdown",
   "id": "cb39c9e9-348e-47c5-9270-221cacb09a0d",
   "metadata": {},
   "source": [
    "- Playground：基于网页端的模型调用及功能测试页面"
   ]
  },
  {
   "cell_type": "markdown",
   "id": "930eefc2-b774-4833-bf92-e3dfad351070",
   "metadata": {},
   "source": [
    "&emsp;&emsp;最后，OpenAI官网还非常贴心的提供了一个Playground页面，这个页面相当于是网页端的大模型调用应用，我们可以在这里直接选择不同类型模型、选择不同的参数、输入不同的提示测试模型输出结果，并且这个页面还可以查看网页端操作对应的代码，整体操作流程非常便捷，也非常适合初学者进行零代码的大模型功能测试："
   ]
  },
  {
   "cell_type": "markdown",
   "id": "c8dcb9d2-01a2-4ddd-b590-4f0d11129fa0",
   "metadata": {},
   "source": [
    "<center><img src=\"https://ml2022.oss-cn-hangzhou.aliyuncs.com/img/202306232047474.png\" alt=\"d83a5c4ce17bd81d64029b61f8f3273\" style=\"zoom:30%;\" />"
   ]
  },
  {
   "cell_type": "markdown",
   "id": "6ebfcc46-3374-46ed-aea4-f24068ec037f",
   "metadata": {},
   "source": [
    "当然，课程中将全程以代码形式调用大模型API，而不会使用Playground。"
   ]
  },
  {
   "cell_type": "markdown",
   "id": "a3efd972-363e-4c37-a6f3-2c6d744773a5",
   "metadata": {},
   "source": [
    "- 模型调用的计费规则、调用限制和账户余额"
   ]
  },
  {
   "cell_type": "markdown",
   "id": "1a627fe8-2b0a-48c6-ab2d-00a1634aed7e",
   "metadata": {},
   "source": [
    "&emsp;&emsp;由于OpenAI的在线大模型是通过个人API-Key在线验证的方式向OpenAI线上模型提交计算申请，并实时获取返回结果。因此，在实际调用OpenAI在线大模型会根据调用的不同模型、调用次数及输入输出文本数量进行计费，因此我们在使用时需要时刻关注费用支出情况。具体计费规则可以在Pricing页面查看：https://openai.com/pricing"
   ]
  },
  {
   "cell_type": "markdown",
   "id": "e39cbba8-5f0c-4686-aae9-6a1ff6a8d258",
   "metadata": {},
   "source": [
    "<center><img src=\"https://ml2022.oss-cn-hangzhou.aliyuncs.com/img/202306232118432.png\" alt=\"f415f855a0c12bd349cae484b08ae09\" style=\"zoom:33%;\" />"
   ]
  },
  {
   "cell_type": "markdown",
   "id": "fd898ee4-5c0f-4b52-99bd-a6a747e502da",
   "metadata": {},
   "source": [
    "其中4K Model就表示MAX TOKENS=4096tokens的模型，而16K模型则表示MAX TOKENS=16384tokens的模型。值得注意的是，16K模型的费用是4K模型费用的两倍，其实也是因为16K模型需要有相比4K模型更大的“隐藏空间”容量，模型更加复杂，调用所需费用也更高。因此建议若非进行超大规模的多轮对话，应当尽量选择4K模型。"
   ]
  },
  {
   "cell_type": "markdown",
   "id": "dc7e22a2-59f6-4aae-b6ed-dc2e1a24c03c",
   "metadata": {},
   "source": [
    "&emsp;&emsp;此外，在实际调用API的过程中，出于对计算资源的保护，OpenAI还限制了各模型API的每分钟请求最大次数（RPM：requests-per-minute）和每分钟Token通信量最大值（TPM：tokens-per-minute），这些限制可以在个人中心的Rate limits页面中进行查看：https://platform.openai.com/account/rate-limits"
   ]
  },
  {
   "cell_type": "markdown",
   "id": "ed9de172-15ea-48e3-823b-0ef470ef55b5",
   "metadata": {},
   "source": [
    "<center><img src=\"https://ml2022.oss-cn-hangzhou.aliyuncs.com/img/202306232124632.png\" alt=\"e063c1c72e7b333de62d85027e4e2eb\" style=\"zoom:33%;\" />"
   ]
  },
  {
   "cell_type": "markdown",
   "id": "ddabe62a-22d2-4116-b000-c2920b864e17",
   "metadata": {},
   "source": [
    "如果希望放宽限制，则可以填写申请表格，在充分说明API用途的情况下，向官方申请提高限制上限。申请地址如下：https://platform.openai.com/docs/guides/rate-limits/overview"
   ]
  },
  {
   "cell_type": "markdown",
   "id": "f32cd77a-af35-4050-96b4-ed6a64e4ff3b",
   "metadata": {},
   "source": [
    "&emsp;&emsp;此外，我们也需要时刻关注账户余额及目前使用金额。我们可以在个人中心的Usage页面查看当前账户余额，以及过去一段时间的账户消费情况：https://platform.openai.com/account/usage"
   ]
  },
  {
   "cell_type": "markdown",
   "id": "6ea24c95-3afd-465a-997d-28cd42d5965f",
   "metadata": {},
   "source": [
    "<center><img src=\"https://ml2022.oss-cn-hangzhou.aliyuncs.com/img/202306232136095.png\" alt=\"8613070298648d885db4200dac40449\" style=\"zoom:33%;\" />"
   ]
  },
  {
   "cell_type": "markdown",
   "id": "ca59dcd7-0d57-490a-bc42-10ea7cef7fe3",
   "metadata": {},
   "source": [
    "对于每个注册的新账户，系统会默认赠送5刀的使用额度，并保留4个月左右的使用期限。"
   ]
  },
  {
   "cell_type": "markdown",
   "id": "02ec2232-3d18-49e2-b43c-22e59c8ffd84",
   "metadata": {},
   "source": [
    "&emsp;&emsp;此外，我们可以在Billing-->Usage limits页面设置每个月最大消费总金额，默认为120刀，若当月API使用金额超过该金额限制，则OpenAI会停止对该API Key调用的响应。该设置可以有效防止由于API滥用导致费用超支：https://platform.openai.com/account/billing/limits"
   ]
  },
  {
   "cell_type": "markdown",
   "id": "598ec1ee-6af1-450e-afc3-3c28df3156c3",
   "metadata": {},
   "source": [
    "<center><img src=\"https://ml2022.oss-cn-hangzhou.aliyuncs.com/img/202306232139091.png\" alt=\"49d74a2a6bfc411c098326a8aee0b5f\" style=\"zoom:33%;\" />"
   ]
  },
  {
   "cell_type": "markdown",
   "id": "e2d494b2-eacc-450a-88f6-c18140877a7e",
   "metadata": {},
   "source": [
    "其中soft limit指的是当API使用支出超过某个预设金额时，会发送邮件进行提醒。"
   ]
  },
  {
   "cell_type": "markdown",
   "id": "714a7beb-5155-4abb-9dc4-0578c6afee6d",
   "metadata": {},
   "source": [
    "- OpenAI账户充值方法"
   ]
  },
  {
   "cell_type": "markdown",
   "id": "945ba3f6-0a1e-44ba-aba7-1a5df325b79d",
   "metadata": {},
   "source": [
    "&emsp;&emsp;OpenAI账户充值方法和ChatGPT升级PLUS时的充值方法类似，都是先绑定银行卡然后再进行扣费。我们只需要在Billing-->Payment methods页面绑定可以用于支付的银行卡即可。OpenAI会根据每个月使用消费金额进行扣费：https://platform.openai.com/account/billing/payment-methods"
   ]
  },
  {
   "cell_type": "markdown",
   "id": "352ddbd8-82d5-4d89-bf6c-884f42908f30",
   "metadata": {},
   "source": [
    "<center><img src=\"https://ml2022.oss-cn-hangzhou.aliyuncs.com/img/202306232147637.png\" alt=\"121b20b45bb1ec9a18dab4ebd711d38\" style=\"zoom:33%;\" />"
   ]
  },
  {
   "cell_type": "markdown",
   "id": "848e00d9-d3eb-4b84-8c0c-bfdd6ffda67b",
   "metadata": {},
   "source": [
    "唯独需要注意的是，无论ChatGPT账户是否已经绑定了银行卡，OpenAI账户首次使用时都需要重新绑定银行卡。不过推荐绑定和ChatGPT PLUS升级方案中相同的银行卡（如果有的话）。具体的虚拟信用卡创建、充值和ChatGPT绑卡的教程，参见《【预习课】02-3 ChatGPT Plus升级流程》中的相关讲解。"
   ]
  },
  {
   "cell_type": "markdown",
   "id": "cb092a8e-843b-4d7b-81fe-a55680c046f3",
   "metadata": {},
   "source": [
    "- OpenAI 0613更新说明"
   ]
  },
  {
   "cell_type": "markdown",
   "id": "a77a6ae8-e02d-4a26-adbe-2556d1f4e7fd",
   "metadata": {},
   "source": [
    "&emsp;&emsp;最后，需要强调的是，伴随着大语言模型技术不断发展，OpenAI也在不断更新在线大模型的功能及使用资费。仅2023年上半年，OpenAI就进行了例如公开GPT-3.5-turbo模型、部分公开GPT-4模型等重大更新，并且数次降低API调用费用。而在2023年6月13号，OpenAI更是大幅提升GPT-3.5和GPT-4模型的最大文本长度、大幅降低模型调用费用，更重要的是，6月13号的更新赋予了Chat Completions模型（编号为0613的模型）的函数调用功能，从而使得OpenAI模型能够直接调用本地工具API而不用借助LangChain，除此之外，相比此前的Chat Completions模型，本次新上线的模型经过了SQL能力方面的微调，从而能够更好的编写SQL代码。更多本次更新的相关内容可以参考官网的更新日志：https://openai.com/blog/function-calling-and-other-api-updates      \n",
    "&emsp;&emsp;基于此，本次课程也将结合OpenAI的最新模型及其功能进行讲解，不仅将介绍Chat Completions模型的函数调用功能，同时在调用API时也将尽可能的使用0613版的模型进行使用，力求深入细致的讲解最新模型的最新功能。      \n",
    "> 更多关于Completions模型与Chat Completions模型二者区别，我们将在课程中结合实际功能进行讲解。"
   ]
  },
  {
   "cell_type": "markdown",
   "id": "bd1c56c3-05ca-4068-828d-232fa172ecbd",
   "metadata": {},
   "source": [
    "### 2.在Jupyter中调用OpenAI API方法"
   ]
  },
  {
   "cell_type": "markdown",
   "id": "6519bdca-3781-414a-81b0-1e0fc42ac15c",
   "metadata": {},
   "source": [
    "&emsp;&emsp;由于接下来的课程会全程在Jupyter中调用OpenAI API，因此在课程开始之前，还需要补充介绍关于如何在Jupyter中调用OpenAI API的方法。具体流程如下："
   ]
  },
  {
   "cell_type": "markdown",
   "id": "c95bc0f4-801d-49b2-8cf7-5821c4e30359",
   "metadata": {},
   "source": [
    "- Step 1.安装openai"
   ]
  },
  {
   "cell_type": "markdown",
   "id": "30a71732-47b1-4d26-a9e6-7fe8434b937b",
   "metadata": {},
   "source": [
    "&emsp;&emsp;需要调用OpenAI在线大模型的话，首先需要在本地安装OpenAI库，这里我们可以在cmd环境中使用pip工具安装openai：pip install openai"
   ]
  },
  {
   "cell_type": "markdown",
   "id": "bae83518-a8b5-4688-a913-36ad8d1d6d5a",
   "metadata": {},
   "source": [
    "<center><img src=\"http://ml2022.oss-cn-hangzhou.aliyuncs.com/img/image-20230214194924985.png\" alt=\"image-20230214194924985\" style=\"zoom:40%;\" />"
   ]
  },
  {
   "cell_type": "markdown",
   "id": "eab73b11-b96f-426d-92a9-598d202f4d8c",
   "metadata": {},
   "source": [
    "- Step 2.获取openai API keys"
   ]
  },
  {
   "cell_type": "markdown",
   "id": "f2af617e-8a0d-4c78-8d17-ed88a2bbaa31",
   "metadata": {},
   "source": [
    "&emsp;&emsp;接下来则需要获取每个人单独的身份认证，也就是API-Keys，我们在openai主页https://platform.openai.com/ 中心可以创建和查看已经创建的openai的AIP keys。注意API-Key是调用模型和扣费的依据，各人需要妥善报关API-Key，防止被盗用从而造成不必要的经济损失。而如果API-Key被盗，也可以停止原有的API-Key，并创建新的Key。"
   ]
  },
  {
   "cell_type": "markdown",
   "id": "ddb6e6fb-2c6e-4f01-a402-06c4c4e65e88",
   "metadata": {},
   "source": [
    "<center><img src=\"http://ml2022.oss-cn-hangzhou.aliyuncs.com/img/image-20230213224830140.png\" alt=\"image-20230213224830140\" style=\"zoom:50%;\" />"
   ]
  },
  {
   "cell_type": "markdown",
   "id": "89af5d4a-58d7-45a2-9ff9-b810453a4fda",
   "metadata": {},
   "source": [
    "<center><img src=\"http://ml2022.oss-cn-hangzhou.aliyuncs.com/img/image-20230213225241964.png\" alt=\"image-20230213225241964\" style=\"zoom:50%;\" />"
   ]
  },
  {
   "cell_type": "markdown",
   "id": "3530f811-6107-42b8-ab3c-7531466da2d1",
   "metadata": {},
   "source": [
    "- Step 3.设置全局环境变量OPENAI_API_KEY"
   ]
  },
  {
   "cell_type": "markdown",
   "id": "66badc64-962f-4c33-90a4-07f8d07ec67b",
   "metadata": {},
   "source": [
    "&emsp;&emsp;为了更加方便的调用API-Key以及在代码中隐藏API-Key，我们可以将其设置为系统环境变量，从而后续可以直接以调用变量名称的形式调用API-Key。具体设置过程如下："
   ]
  },
  {
   "cell_type": "markdown",
   "id": "69e823fc-1eb8-4587-bc8a-d2ec498bff1a",
   "metadata": {},
   "source": [
    "首先打开系统环境变量面板："
   ]
  },
  {
   "cell_type": "markdown",
   "id": "d1f1fec5-61c5-475a-8a2d-39834106dabc",
   "metadata": {},
   "source": [
    "<center><img src=\"http://ml2022.oss-cn-hangzhou.aliyuncs.com/img/image-20230213225417208.png\" alt=\"image-20230213225417208\" style=\"zoom:50%;\" />"
   ]
  },
  {
   "cell_type": "markdown",
   "id": "41b42d89-e9a3-4802-a631-8f51f7860887",
   "metadata": {},
   "source": [
    "点击环境变量"
   ]
  },
  {
   "cell_type": "markdown",
   "id": "56e375b6-f088-49d6-9469-fb60cf17ec05",
   "metadata": {},
   "source": [
    "<center><img src=\"http://ml2022.oss-cn-hangzhou.aliyuncs.com/img/image-20230213225515196.png\" alt=\"image-20230213225515196\" style=\"zoom:50%;\" />"
   ]
  },
  {
   "cell_type": "markdown",
   "id": "c53172e7-0f6b-4826-aef4-332476ad39d6",
   "metadata": {},
   "source": [
    "点击新建系统变量："
   ]
  },
  {
   "cell_type": "markdown",
   "id": "e3a40f4f-2145-4727-82ee-c365687e13a7",
   "metadata": {},
   "source": [
    "<center><img src=\"http://ml2022.oss-cn-hangzhou.aliyuncs.com/img/image-20230213225730721.png\" alt=\"image-20230213225730721\" style=\"zoom:50%;\" />"
   ]
  },
  {
   "cell_type": "markdown",
   "id": "74cb4742-e48f-4785-8716-822bcfc4828f",
   "metadata": {},
   "source": [
    "设置环境变量。这里变量名可以统一设置为OPENAI_API_KEY，而变量值就是刚刚我们复制的API-Key。"
   ]
  },
  {
   "cell_type": "markdown",
   "id": "e1f2d179-d729-44f3-a98c-828711df1404",
   "metadata": {},
   "source": [
    "<center><img src=\"http://ml2022.oss-cn-hangzhou.aliyuncs.com/img/image-20230213225921669.png\" alt=\"image-20230213225921669\" style=\"zoom:50%;\" />"
   ]
  },
  {
   "cell_type": "markdown",
   "id": "7d432c7a-1c1e-45dc-b490-85fb3fbe834e",
   "metadata": {},
   "source": [
    "保存重启电脑，方可使环境变量生效。"
   ]
  },
  {
   "cell_type": "markdown",
   "id": "ceb78496-e712-4fba-a266-aa55b83f816b",
   "metadata": {},
   "source": [
    "- Step 4.以代理形式启动Jupyter"
   ]
  },
  {
   "cell_type": "markdown",
   "id": "4fd4e92e-040d-41b5-b9c5-5db030018ce3",
   "metadata": {},
   "source": [
    "&emsp;&emsp;重启电脑后，我们即可启动Jupyter测试能否在Jupyter环境下调用OpenAI大模型API。不过这里仍然需要注意的是，对于国内用户，是无法直接访问OpenAI的，需要让Jupyter在代理环境下启动，即需要令Jupyter可以通过代理来访问网络。具体设置方法如下："
   ]
  },
  {
   "cell_type": "markdown",
   "id": "1026ffe1-45e1-468a-a2b0-01142b831c40",
   "metadata": {},
   "source": [
    "&emsp;&emsp;首先，启动魔法并设置全局代理模型（关于魔法相关内容，可以参考《【预习课】 03 ChatGPT防封指南》相关内容）。并查看代理服务器的地址和端口，例如服务器代理端口如下："
   ]
  },
  {
   "cell_type": "markdown",
   "id": "1d55885b-deb0-4044-a210-c274622ea37a",
   "metadata": {},
   "source": [
    "<center><img src=\"https://ml2022.oss-cn-hangzhou.aliyuncs.com/img/1f58255ce45ecab09106be6deab4883.jpg\" alt=\"1f58255ce45ecab09106be6deab4883\" style=\"zoom:33%;\" />"
   ]
  },
  {
   "cell_type": "markdown",
   "id": "71a74886-d89b-468a-8827-35191fd24115",
   "metadata": {},
   "source": [
    "而对于代理地址，其实大多数代理都是借助本地回环进行代理，即127.0.0.1，因此当前魔法的代理地址和端口为：127.0.0.1:2022。"
   ]
  },
  {
   "cell_type": "markdown",
   "id": "ea76e6e4-9031-4290-8c68-227437d871a1",
   "metadata": {},
   "source": [
    "&emsp;&emsp;而如何让Jupyter通过代理方式访问网络，最简单的方法就是利用cmd命令行启动jupyter。这里我们同时输入win+R开启运行页面，并在打开一栏中输入cmd并回车即可进入命令行："
   ]
  },
  {
   "cell_type": "markdown",
   "id": "0d1afe04-3671-4eff-98ba-091b9e29cbd2",
   "metadata": {},
   "source": [
    "<center><img src=\"https://ml2022.oss-cn-hangzhou.aliyuncs.com/img/7c548c1916df4da063445469a0a3284.png\" alt=\"7c548c1916df4da063445469a0a3284\" style=\"zoom:33%;\" />"
   ]
  },
  {
   "cell_type": "markdown",
   "id": "bdf936be-5c1b-4c53-bc45-e4d075df00c7",
   "metadata": {},
   "source": [
    "然后在命令行中启动Jupyter，并且每次启动前输入代理环境设置，即按照如下命令顺序启动Jupyter：       "
   ]
  },
  {
   "cell_type": "code",
   "execution_count": null,
   "id": "0d733cf8-7682-4336-a785-c3343dcf5996",
   "metadata": {},
   "outputs": [],
   "source": [
    "!set HTTP_PROXY=http://127.0.0.1:2022          \n",
    "!set HTTPS_PROXY=http://127.0.0.1:2022     \n",
    "!jupyter lab"
   ]
  },
  {
   "cell_type": "markdown",
   "id": "66461e34-9c4a-48ad-9dab-e971516100e6",
   "metadata": {},
   "source": [
    "<center><img src=\"https://ml2022.oss-cn-hangzhou.aliyuncs.com/img/d301387de8e74d76c272cf20c36d527.png\" alt=\"d301387de8e74d76c272cf20c36d527\" style=\"zoom: 50%;\" />"
   ]
  },
  {
   "cell_type": "markdown",
   "id": "7e367764-a67a-41ef-9847-a8cf7331013e",
   "metadata": {},
   "source": [
    "> 这里需要注意，新版Anaconda安装时并不会自动添加环境变量，因此可能导致输入jupyter lab时提示没有可以执行的命令。此时可以在打开环境变量配置页面，然后点击系统变量内的Path并点击编辑：<center><img src=\"https://ml2022.oss-cn-hangzhou.aliyuncs.com/img/bfa9c4f24e60384e5d4911d89742224.png\" alt=\"bfa9c4f24e60384e5d4911d89742224\" style=\"zoom:33%;\" /></center>       \n",
    "    然后添加C:\\ProgramData\\anaconda3\\condabin和C:\\ProgramData\\anaconda3\\Scripts两个变量。注意这两个变量的地址需要是自己安装Anaconda时的安装位置：<center><img src=\"https://ml2022.oss-cn-hangzhou.aliyuncs.com/img/ddbfd3085a5296b7244f5db0acf7e62.png\" alt=\"ddbfd3085a5296b7244f5db0acf7e62\" style=\"zoom:33%;\" />"
   ]
  },
  {
   "cell_type": "markdown",
   "id": "9ddf68cd-4ce0-4886-84b1-b88c86cdfeaa",
   "metadata": {},
   "source": [
    "- 测试能否调用OpenAI API"
   ]
  },
  {
   "cell_type": "markdown",
   "id": "1a892544-e5c4-4778-999b-6d015d416cdd",
   "metadata": {},
   "source": [
    "&emsp;&emsp;顺利启动Jupyter之后，即可测试能否顺利调用OpenAI大模型，测试代码如下："
   ]
  },
  {
   "cell_type": "code",
   "execution_count": 16,
   "id": "73c8dd50-0c27-4163-9b9f-d1ed50930cdf",
   "metadata": {},
   "outputs": [],
   "source": [
    "import os\n",
    "import openai"
   ]
  },
  {
   "cell_type": "code",
   "execution_count": 17,
   "id": "94db0b10-5db1-4f4f-a30c-18748726fcee",
   "metadata": {},
   "outputs": [],
   "source": [
    "openai.api_key = os.getenv(\"OPENAI_API_KEY\")"
   ]
  },
  {
   "cell_type": "code",
   "execution_count": 18,
   "id": "cff222b6-cf3e-4671-98d1-27893f184272",
   "metadata": {
    "tags": []
   },
   "outputs": [
    {
     "data": {
      "text/plain": [
       "<OpenAIObject text_completion id=cmpl-7XOxoX76fSWwFnbNamBNaKZhTbh9u at 0x239b4c172e0> JSON: {\n",
       "  \"id\": \"cmpl-7XOxoX76fSWwFnbNamBNaKZhTbh9u\",\n",
       "  \"object\": \"text_completion\",\n",
       "  \"created\": 1688195140,\n",
       "  \"model\": \"text-davinci-003\",\n",
       "  \"choices\": [\n",
       "    {\n",
       "      \"text\": \"\\n\\nThis is indeed a test\",\n",
       "      \"index\": 0,\n",
       "      \"logprobs\": null,\n",
       "      \"finish_reason\": \"length\"\n",
       "    }\n",
       "  ],\n",
       "  \"usage\": {\n",
       "    \"prompt_tokens\": 5,\n",
       "    \"completion_tokens\": 7,\n",
       "    \"total_tokens\": 12\n",
       "  }\n",
       "}"
      ]
     },
     "execution_count": 18,
     "metadata": {},
     "output_type": "execute_result"
    }
   ],
   "source": [
    "openai.Completion.create(\n",
    "  model=\"text-davinci-003\",\n",
    "  prompt=\"Say this is a test\",\n",
    "  max_tokens=7,\n",
    "  temperature=0\n",
    ")"
   ]
  },
  {
   "cell_type": "markdown",
   "id": "c3f3902b-90fe-433b-b436-facbb146ff22",
   "metadata": {},
   "source": [
    "若能正常返回结果，则说明能顺利调用OpenAI的API。"
   ]
  }
 ],
 "metadata": {
  "kernelspec": {
   "display_name": "Python 3 (ipykernel)",
   "language": "python",
   "name": "python3"
  },
  "language_info": {
   "codemirror_mode": {
    "name": "ipython",
    "version": 3
   },
   "file_extension": ".py",
   "mimetype": "text/x-python",
   "name": "python",
   "nbconvert_exporter": "python",
   "pygments_lexer": "ipython3",
   "version": "3.10.9"
  }
 },
 "nbformat": 4,
 "nbformat_minor": 5
}
