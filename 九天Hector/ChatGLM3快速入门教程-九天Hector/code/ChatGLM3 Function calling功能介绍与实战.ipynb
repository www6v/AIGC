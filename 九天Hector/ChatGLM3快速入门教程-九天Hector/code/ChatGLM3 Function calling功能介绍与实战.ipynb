{
 "cells": [
  {
   "cell_type": "markdown",
   "id": "e4214329-bb2f-481c-ba97-a445129e96d9",
   "metadata": {},
   "source": [
    "# <center> ChatGLM3 Function calling功能介绍与Agent实战"
   ]
  },
  {
   "cell_type": "markdown",
   "id": "a7b30aa4-0761-4f7f-b5e4-8c8627cebfe9",
   "metadata": {},
   "source": [
    "&emsp;&emsp;在本次ChatGLM3更新中，重磅更新了Function calling功能，该功能的加入也使得ChatGLM3模型正式接轨AI Agent开发。相关基础概念介绍详见公开课：[ChatGLM3全新Function calling功能详解！开启AI Agent之路的最核心功能！](https://www.bilibili.com/video/BV1K94y157gd/)"
   ]
  },
  {
   "cell_type": "markdown",
   "id": "413ec52a-6c05-40c7-94d1-8707614befc6",
   "metadata": {},
   "source": [
    "<center><img src=\"https://ml2022.oss-cn-hangzhou.aliyuncs.com/img/202311011808315.png\" alt=\"b8f8b675328f3dcdbfec4b8c846816d\" style=\"zoom:33%;\" />"
   ]
  },
  {
   "cell_type": "markdown",
   "id": "f7b7adee-69f3-4fdb-a157-695798662cc8",
   "metadata": {},
   "source": [
    "- Function calling功能简介"
   ]
  },
  {
   "cell_type": "markdown",
   "id": "2698a7ca-7414-4ed4-be4e-7ccbbf47fa1d",
   "metadata": {},
   "source": [
    "&emsp;&emsp;OpenAI在0613的更新中首次为目前最先进的Chat类模型增加了Function calling功能，该功能的本质是让大语言模型调用外部函数的能力，即Chat模型可以不再仅仅根据自身的数据库知识进行回答，而是可以额外挂载一个函数库，然后根据用户提问进行函数库检索，根据实际需求调用外部函数并获取函数运行结果，再基于函数运行结果进行回答。其基本过程如下："
   ]
  },
  {
   "cell_type": "markdown",
   "id": "6b08ffd9-cd1d-480a-8be7-4a2c300f7203",
   "metadata": {},
   "source": [
    "<center><img src=\"https://ml2022.oss-cn-hangzhou.aliyuncs.com/img/202307061638380.png\" alt=\"7055021e99cf56e7128c4348f864c5e\" style=\"zoom:33%;\" />"
   ]
  },
  {
   "cell_type": "markdown",
   "id": "31d5a3f3-522f-4879-a526-315aba118471",
   "metadata": {},
   "source": [
    "而这个外部挂载的函数库，可以是简单的自定义函数，也可以是一个封装了外部工具API的功能型函数（例如一个可以调用谷歌搜索的函数、或者一个可以获取天气信息的函数）。而在OpenAI的精妙设计下，Function calling功能的实现过程也并不复杂，在编写问答函数时，我们只需要在ChatCompletions.create函数中进行参数设置、并提前定义好外部函数库即可，而在Chat模型执行Function calling时，模型会根据用户提问的语义自动检索并挑选合适的函数进行使用，整个过程并不需要人工手动干预指定使用某个函数，大预言模型能够充分发挥自身的语义理解优势，在函数库中自动挑选合适函数进行运行，并给出问题的答案。"
   ]
  },
  {
   "cell_type": "markdown",
   "id": "c7dca2fc-865d-4fe4-8b2a-568c8d3c6e05",
   "metadata": {},
   "source": [
    "&emsp;&emsp;毫无疑问，有了外部函数库的功能加持，Chat模型的处理和解决问题的能力也必将再上一个台阶。同时，相比于此前必须借助LangChain的agent模块才能实现LLM和外部工具API的协同调用，现在Chat模型内部集成的Function calling功能实现过程更简单、开发门流程更加清晰、开发槛更低，而如此种种，也必将促进新一轮的以大语言模型为核心的AI应用的爆发。"
   ]
  },
  {
   "cell_type": "markdown",
   "id": "dcc099e4-dfdf-4376-af38-5e2841ecb0cd",
   "metadata": {},
   "source": [
    "<center><img src=\"https://ml2022.oss-cn-hangzhou.aliyuncs.com/img/202311011817356.png\" alt=\"a7cadac71f007a4bcb66d2035190521\" style=\"zoom:33%;\" />"
   ]
  },
  {
   "cell_type": "markdown",
   "id": "d31e60e9-6db7-4a07-ba62-5e4cd0310cd9",
   "metadata": {},
   "source": [
    "- 极简AI应用开发示例"
   ]
  },
  {
   "cell_type": "markdown",
   "id": "77dd5043-dbc8-4f63-9e06-8bcba5bc3d49",
   "metadata": {},
   "source": [
    "<center><img src=\"https://ml2022.oss-cn-hangzhou.aliyuncs.com/img/202311011719535.png\" alt=\"9b506cd46e4cf1ca064553cc3e1f0ba\" style=\"zoom:33%;\" />"
   ]
  },
  {
   "cell_type": "markdown",
   "id": "1f1ea66a-fc20-4fec-939f-d41ea82a097f",
   "metadata": {},
   "source": [
    "&emsp;&emsp;当然，一个开放的天气查询API，也意味着我们可以将其封装为一个本地的函数，即通过调用OpenWeather API来获取实时天气信息，然后再用Function calling功能调用该函数，如此一来，就相当于给Chat模型增加了实时获取天气信息的能力，而后我们即可通过Chat模型实时查询天气或根据天气情况询问穿衣建议等，从功能上来说，接入实时天气信息的Chat模型其实也就是一个非常简单的天气查询AI助手。这是一个相对简单的将其他工具API接入Chat模型的示例，接下来我们介绍具体实现方法。"
   ]
  },
  {
   "cell_type": "markdown",
   "id": "23ac6eac-9085-497e-96bd-233abb80fdd3",
   "metadata": {},
   "source": [
    "### Stage 1、获取API：OpenWeather注册及API key获取方法"
   ]
  },
  {
   "cell_type": "markdown",
   "id": "5c2c7ac6-2ea5-4970-9855-27fdd4937b0e",
   "metadata": {},
   "source": [
    "#### 1.API获取流程"
   ]
  },
  {
   "cell_type": "markdown",
   "id": "984d1dc1-f2ba-47b6-ace3-d0a515d43e77",
   "metadata": {},
   "source": [
    "&emsp;&emsp;为了能够调用OpenWeather服务，和OpenAI的API使用过程类似，我们首先需要先注册OpenWeather账号，并获取OpenWeather API Key。这里需要注意的是，对于大多数在线服务的API来说，都需要通过API key来进行身份验证，尽管OpenWeather相对更加Open，有非常多的免费使用的次数，但身份验证仍然是必要的防止API被滥用的有效手段。OpenWeather API key获取流程如下："
   ]
  },
  {
   "cell_type": "markdown",
   "id": "54acdffb-d4ea-40d6-91e0-25fd7b23053a",
   "metadata": {},
   "source": [
    "- Step 1.登录OpenWeather官网并点击Sign—>create account完成注册。该网站无需魔法即可直接登录，可以使用国内邮箱或者QQ邮箱均可进行注册，官网地址为：https://openweathermap.org/"
   ]
  },
  {
   "cell_type": "markdown",
   "id": "256ecade-3230-47ed-bf62-0f7595f5f1d4",
   "metadata": {},
   "source": [
    "<center><img src=\"https://ml2022.oss-cn-hangzhou.aliyuncs.com/img/e9a6286c483ccf21ab96af1972a918b.png\" alt=\"e9a6286c483ccf21ab96af1972a918b\" style=\"zoom:33%;\" />"
   ]
  },
  {
   "cell_type": "markdown",
   "id": "ed3fedf4-dddd-4069-bbc3-c3ca5d6dd771",
   "metadata": {},
   "source": [
    "<center><img src=\"https://ml2022.oss-cn-hangzhou.aliyuncs.com/img/577e19b46f4c124b50a0455ccc132e9.png\" alt=\"577e19b46f4c124b50a0455ccc132e9\" style=\"zoom:33%;\" />"
   ]
  },
  {
   "cell_type": "markdown",
   "id": "32a9f879-8cdd-4f3b-b6b3-6d9f105ccdab",
   "metadata": {},
   "source": [
    "- Step 2.获取API-key：注册完成后，即可在API keys页面查看当前账户的API key："
   ]
  },
  {
   "cell_type": "markdown",
   "id": "87be8b4f-b88d-4991-b871-20bdf57c3257",
   "metadata": {},
   "source": [
    "<center><img src=\"https://ml2022.oss-cn-hangzhou.aliyuncs.com/img/f44ba05a810500a61516caa28a4fcb4.png\" alt=\"f44ba05a810500a61516caa28a4fcb4\" style=\"zoom:33%;\" />"
   ]
  },
  {
   "cell_type": "markdown",
   "id": "701ca0cf-7942-4f9e-b049-cab6b9fb950c",
   "metadata": {},
   "source": [
    "<center><img src=\"https://ml2022.oss-cn-hangzhou.aliyuncs.com/img/e497a7ebb4f8d50ff3b6e362e4b569a.png\" alt=\"e497a7ebb4f8d50ff3b6e362e4b569a\" style=\"zoom:33%;\" />"
   ]
  },
  {
   "cell_type": "markdown",
   "id": "79e5779f-754c-4c06-9047-fa71c8e2d877",
   "metadata": {},
   "source": [
    "一般来说完成注册后，就会有一个已经激活的API-key。和OpenAI一样，OpenWeather的API key也创建多个。"
   ]
  },
  {
   "cell_type": "markdown",
   "id": "a382999d-92c6-4224-accf-dfa35d591e04",
   "metadata": {},
   "source": [
    "- Step 3.将其设置为环境变量：和OpenAI API key类似，为了方便后续调用，我们也可以直接将OpenWeather API key设置为环境变量，变量名为OPENWEATHER_API_KEY。具体设置环境变量的方法参考Ch.1中OpenAI APkey设置环境变量流程，此处不再赘述。"
   ]
  },
  {
   "cell_type": "markdown",
   "id": "7c7e38db-6470-41d7-8cb7-34fba5bbccac",
   "metadata": {},
   "source": [
    "<center><img src=\"https://ml2022.oss-cn-hangzhou.aliyuncs.com/img/aa0f15de151921727c20918fccc8de0.png\" alt=\"aa0f15de151921727c20918fccc8de0\" style=\"zoom:33%;\" />"
   ]
  },
  {
   "cell_type": "markdown",
   "id": "2b5997bf-17af-40f9-924d-3c74444356c7",
   "metadata": {},
   "source": [
    "设置完了环境变量之后，接下来即可按照如下方式创建OpenWeather API key变量："
   ]
  },
  {
   "cell_type": "code",
   "execution_count": 2,
   "id": "eef6daf3-4707-46ef-a0f1-606e7c547628",
   "metadata": {
    "tags": []
   },
   "outputs": [],
   "source": [
    "open_weather_key = os.getenv(\"OPENWEATHER_API_KEY\")"
   ]
  },
  {
   "cell_type": "markdown",
   "id": "5877dd83-4e55-42ee-a937-4368b2384f0f",
   "metadata": {},
   "source": [
    "需要注意的是，一般来说首次注册用户，首个API key需要等待2-5小时才会被激活，在此期间使用该API key会返回401错误。"
   ]
  },
  {
   "cell_type": "markdown",
   "id": "2eeeb405-c575-4210-a9ac-1cf13e52cd2f",
   "metadata": {},
   "source": [
    "#### 1.2 API使用流程：利用OpenWeather API获取实时天气信息"
   ]
  },
  {
   "cell_type": "markdown",
   "id": "aa74e7a0-77c8-421b-a489-e79f17c89808",
   "metadata": {},
   "source": [
    "&emsp;&emsp;接下来我们通过一个简单的示例，来介绍如何通过OpenWeather API获取实时天气信息："
   ]
  },
  {
   "cell_type": "code",
   "execution_count": 4,
   "id": "f69ad1cf-aeab-4a22-af5f-b9090ce24703",
   "metadata": {
    "tags": []
   },
   "outputs": [],
   "source": [
    "import requests\n",
    "\n",
    "# Step 1.构建请求\n",
    "url = \"https://api.openweathermap.org/data/2.5/weather\"\n",
    "\n",
    "# Step 2.设置查询参数\n",
    "params = {\n",
    "    \"q\": \"Beijing\",               # 查询北京实时天气\n",
    "    \"appid\": open_weather_key,    # 输入API key\n",
    "    \"units\": \"metric\",            # 使用摄氏度而不是华氏度\n",
    "    \"lang\":\"zh_cn\"                # 输出语言为简体中文\n",
    "}\n",
    "\n",
    "# Step 3.发送GET请求\n",
    "response = requests.get(url, params=params)\n",
    "\n",
    "# Step 4.解析响应\n",
    "data = response.json()"
   ]
  },
  {
   "cell_type": "markdown",
   "id": "006db899-79c6-4142-9e76-afe1642bdafb",
   "metadata": {},
   "source": [
    "这里需要注意的是，城市名必须输入英文名，否则无法正确识别。接下来查看返回结果。首先我们先查看response结果："
   ]
  },
  {
   "cell_type": "code",
   "execution_count": 5,
   "id": "e82a3451-fdf5-4540-a7c6-8a5e03b92424",
   "metadata": {
    "tags": []
   },
   "outputs": [
    {
     "data": {
      "text/plain": [
       "<Response [200]>"
      ]
     },
     "execution_count": 5,
     "metadata": {},
     "output_type": "execute_result"
    }
   ],
   "source": [
    "response"
   ]
  },
  {
   "cell_type": "code",
   "execution_count": 6,
   "id": "70e54a50-d04e-4108-aa71-ee5374139089",
   "metadata": {
    "tags": []
   },
   "outputs": [
    {
     "data": {
      "text/plain": [
       "requests.models.Response"
      ]
     },
     "execution_count": 6,
     "metadata": {},
     "output_type": "execute_result"
    }
   ],
   "source": [
    "type(response)"
   ]
  },
  {
   "cell_type": "markdown",
   "id": "82420e13-6036-496d-a33c-3705149d2807",
   "metadata": {},
   "source": [
    "在未解析之前，我们只能查看到基本请求结果状态，这里的200代表成功相应，即本次发送请求获得了对应的响应，且响应内容包含在response中。考虑到默认情况下返回结果是JSON格式，因此后续代码使用了response.json()对其进行解析。解析内容如下："
   ]
  },
  {
   "cell_type": "code",
   "execution_count": 7,
   "id": "6b7b97d4-002c-4b01-8477-c48dfca24f74",
   "metadata": {
    "tags": []
   },
   "outputs": [
    {
     "data": {
      "text/plain": [
       "{'coord': {'lon': 116.3972, 'lat': 39.9075},\n",
       " 'weather': [{'id': 800, 'main': 'Clear', 'description': '晴', 'icon': '01n'}],\n",
       " 'base': 'stations',\n",
       " 'main': {'temp': 16.94,\n",
       "  'feels_like': 15.58,\n",
       "  'temp_min': 16.94,\n",
       "  'temp_max': 16.94,\n",
       "  'pressure': 1011,\n",
       "  'humidity': 34,\n",
       "  'sea_level': 1011,\n",
       "  'grnd_level': 1005},\n",
       " 'visibility': 10000,\n",
       " 'wind': {'speed': 1.89, 'deg': 163, 'gust': 2.63},\n",
       " 'clouds': {'all': 1},\n",
       " 'dt': 1698833916,\n",
       " 'sys': {'type': 1,\n",
       "  'id': 9609,\n",
       "  'country': 'CN',\n",
       "  'sunrise': 1698792140,\n",
       "  'sunset': 1698830013},\n",
       " 'timezone': 28800,\n",
       " 'id': 1816670,\n",
       " 'name': 'Beijing',\n",
       " 'cod': 200}"
      ]
     },
     "execution_count": 7,
     "metadata": {},
     "output_type": "execute_result"
    }
   ],
   "source": [
    "data"
   ]
  },
  {
   "cell_type": "markdown",
   "id": "59df7296-3189-4a3e-9579-dd922b990840",
   "metadata": {},
   "source": [
    "> 这里需要注意，若API key未激活，则返回的response将显示401，表示本次请求Unauthorized（未经授权）。此外，若response出现404，则表示URL路径无效，需要根据官网提供的信息重新核对URL路径。"
   ]
  },
  {
   "cell_type": "markdown",
   "id": "38c20cfb-f4a8-4494-a03b-f60bc6bfaad2",
   "metadata": {},
   "source": [
    "能够看出，返回结果非常丰富，包含了天气条件、温度、湿度、风速、天气描述等信息，这里我们可以简单查看当前天气中的即时温度和天气状况："
   ]
  },
  {
   "cell_type": "code",
   "execution_count": 8,
   "id": "cab960f9-4332-4384-9fc4-adf59a992d69",
   "metadata": {
    "tags": []
   },
   "outputs": [
    {
     "data": {
      "text/plain": [
       "(16.94, 16.94)"
      ]
     },
     "execution_count": 8,
     "metadata": {},
     "output_type": "execute_result"
    }
   ],
   "source": [
    "# 即时温度最高、最低气温\n",
    "data['main']['temp_min'], data['main']['temp_max']"
   ]
  },
  {
   "cell_type": "code",
   "execution_count": 9,
   "id": "431a32c5-87e1-4ad2-9190-6dcecbf05f8c",
   "metadata": {
    "tags": []
   },
   "outputs": [
    {
     "data": {
      "text/plain": [
       "'晴'"
      ]
     },
     "execution_count": 9,
     "metadata": {},
     "output_type": "execute_result"
    }
   ],
   "source": [
    "# 天气状况\n",
    "data['weather'][0]['description']"
   ]
  },
  {
   "cell_type": "markdown",
   "id": "892905a1-8e0a-415e-879b-6d17a2d63256",
   "metadata": {},
   "source": [
    "对比手机查看的天气信息不难发现，OpenWeather提供的天气信息非常准确。"
   ]
  },
  {
   "cell_type": "markdown",
   "id": "12aa4382-e431-4039-b195-2e5b7802e6a4",
   "metadata": {},
   "source": [
    "### Stage 2、编写外部函数"
   ]
  },
  {
   "cell_type": "markdown",
   "id": "883d945c-121a-4f3f-831d-ab31e41c9d02",
   "metadata": {},
   "source": [
    "- 实时天气信息获取函数编写"
   ]
  },
  {
   "cell_type": "markdown",
   "id": "07fd5a42-bf90-473d-9db3-481d91173ff7",
   "metadata": {},
   "source": [
    "&emsp;&emsp;接下来，我们尝试编写一个通过OpenWeather API实时获取天气信息的API，并作为Chat可调用的外部函数之一。很明显，为了确保和大语言模型之间的顺畅通信，此时要求函数的输入和输出都是字符串格式。具体函数编写如下："
   ]
  },
  {
   "cell_type": "code",
   "execution_count": 86,
   "id": "fdbe9e72-5c7b-4bd1-a967-ccc4a2eaf361",
   "metadata": {
    "tags": []
   },
   "outputs": [],
   "source": [
    "def get_weather(loc):\n",
    "    \"\"\"\n",
    "    查询即时天气函数\n",
    "    :param loc: 必要参数，字符串类型，用于表示查询天气的具体城市名称，\\\n",
    "    注意，中国的城市需要用对应城市的英文名称代替，例如如果需要查询北京市天气，则loc参数需要输入'Beijing'；\n",
    "    :return：OpenWeather API查询即时天气的结果，具体URL请求地址为：https://api.openweathermap.org/data/2.5/weather\\\n",
    "    返回结果对象类型为解析之后的JSON格式对象，并用字符串形式进行表示，其中包含了全部重要的天气信息\n",
    "    \"\"\"\n",
    "    # Step 1.构建请求\n",
    "    url = \"https://api.openweathermap.org/data/2.5/weather\"\n",
    "\n",
    "    # Step 2.设置查询参数\n",
    "    params = {\n",
    "        \"q\": loc,               \n",
    "        \"appid\": open_weather_key,    # 输入API key\n",
    "        \"units\": \"metric\",            # 使用摄氏度而不是华氏度\n",
    "        \"lang\":\"zh_cn\"                # 输出语言为简体中文\n",
    "    }\n",
    "\n",
    "    # Step 3.发送GET请求\n",
    "    response = requests.get(url, params=params)\n",
    "    \n",
    "    # Step 4.解析响应\n",
    "    data = response.json()\n",
    "    return json.dumps(data)"
   ]
  },
  {
   "cell_type": "markdown",
   "id": "7d9fa19c-2096-4ee9-8489-434cbe89c6d5",
   "metadata": {},
   "source": [
    "简单测试函数能否正常运行："
   ]
  },
  {
   "cell_type": "code",
   "execution_count": 87,
   "id": "6481034f-e3bc-4863-991c-b45cd9f1c1f9",
   "metadata": {
    "tags": []
   },
   "outputs": [
    {
     "data": {
      "text/plain": [
       "'{\"coord\": {\"lon\": 120.1614, \"lat\": 30.2937}, \"weather\": [{\"id\": 501, \"main\": \"Rain\", \"description\": \"\\\\u4e2d\\\\u96e8\", \"icon\": \"10d\"}], \"base\": \"stations\", \"main\": {\"temp\": 30.27, \"feels_like\": 37.27, \"temp_min\": 25.95, \"temp_max\": 31.62, \"pressure\": 992, \"humidity\": 80}, \"visibility\": 9927, \"wind\": {\"speed\": 2.88, \"deg\": 30, \"gust\": 5.2}, \"rain\": {\"1h\": 2.73}, \"clouds\": {\"all\": 89}, \"dt\": 1689499325, \"sys\": {\"type\": 2, \"id\": 2033711, \"country\": \"CN\", \"sunrise\": 1689455265, \"sunset\": 1689505351}, \"timezone\": 28800, \"id\": 1808926, \"name\": \"Hangzhou\", \"cod\": 200}'"
      ]
     },
     "execution_count": 87,
     "metadata": {},
     "output_type": "execute_result"
    }
   ],
   "source": [
    "get_weather('Hangzhou')"
   ]
  },
  {
   "cell_type": "markdown",
   "id": "4b04dd6f-039c-40c6-9d7d-b1e01fca6f99",
   "metadata": {},
   "source": [
    "能够发现函数能够正常运行。此外，需要注意的是，为了确保函数能够顺利和大愿与你模型通信，我们还必须确保模型能够顺利解读OpenWeather天气信息，具体验证过程分以下三步，其一是需要验证Chat模型本身是否知道OpenWeather："
   ]
  },
  {
   "cell_type": "code",
   "execution_count": 70,
   "id": "a485e2fa-e6cc-407f-bce4-16c334a3a279",
   "metadata": {
    "tags": []
   },
   "outputs": [],
   "source": [
    "response = openai.ChatCompletion.create(\n",
    "    model=\"chatglm3-6b\",\n",
    "    messages=[\n",
    "        {\"role\": \"user\", \"content\": \"请问你知道OpenWeather么？\"}, \n",
    "    ]\n",
    ")"
   ]
  },
  {
   "cell_type": "code",
   "execution_count": 71,
   "id": "43d7608f-234c-4c33-b84d-fe2f2072d901",
   "metadata": {
    "tags": []
   },
   "outputs": [
    {
     "data": {
      "text/plain": [
       "'\\n OpenWeather是一个气象数据提供商,提供全球天气预报和历史数据。它的数据覆盖了超过190国家和地区,并且可以以多种格式(如JSON、XML和HTML)供开发者使用。通过OpenWeather,人们可以轻松地从自己的应用程序或网站中获取最新的天气信息。'"
      ]
     },
     "execution_count": 71,
     "metadata": {},
     "output_type": "execute_result"
    }
   ],
   "source": [
    "response['choices'][0]['message'][\"content\"]"
   ]
  },
  {
   "cell_type": "markdown",
   "id": "264944a4-e6a4-4950-a532-fc6ef336f04c",
   "metadata": {},
   "source": [
    "其二是需要进一步验证Chat模型能否针对函数结果进行解读，即能否在基于data信息理解基础上，给出一些天气查询问题准确的回答："
   ]
  },
  {
   "cell_type": "code",
   "execution_count": 72,
   "id": "5ddfd45e-524a-41ad-8e63-fe38a781575c",
   "metadata": {
    "tags": []
   },
   "outputs": [
    {
     "data": {
      "text/plain": [
       "'\\n 今天是2023年6月1日，杭州市的天气情况如下：\\n\\n1. 天气：晴，气温约为23.95摄氏度；\\n2. 相对湿度：47%，体感温度为23.63摄氏度；\\n3. 气压：1018百帕斯卡；\\n4. 风速：2.72米/秒，风向为北偏西方向。\\n\\n请注意适当增减衣物，祝您有个愉快的一天！'"
      ]
     },
     "execution_count": 72,
     "metadata": {},
     "output_type": "execute_result"
    }
   ],
   "source": [
    "response = openai.ChatCompletion.create(\n",
    "  model=\"chatglm3-6b\",\n",
    "  messages=[\n",
    "    {\"role\": \"system\", \"content\": \"天气信息来源于OpenWeather API：https://api.openweathermap.org/data/2.5/weather\"},\n",
    "    {\"role\": \"system\", \"content\": \"这是今日杭州市的天气：%s\" % data},\n",
    "    {\"role\": \"user\", \"content\": \"请问今日杭州天气如何？请用简体中文回答\"}\n",
    "  ]\n",
    ")\n",
    "response.choices[0].message['content']"
   ]
  },
  {
   "cell_type": "markdown",
   "id": "be66f47f-c4ee-4e91-83c6-7f4a88089ade",
   "metadata": {},
   "source": [
    "能够发现模型能够理解OpenWeather返回结果，并根据提问对data进行总结并进行回答。"
   ]
  },
  {
   "cell_type": "markdown",
   "id": "0aea5c9f-4d41-4682-a07d-801c4ee5e275",
   "metadata": {},
   "source": [
    "第三步，也是非常关键的一步，就是我们在进行提问时问题里面的城市名称肯定是中文，但OpenAIWeather API要求输入英文名称，尽管我们在函数参数说明中注明了loc函数需要转化成英文，但对于外部函数的参数整理是Chat模型自发进行的整理，外部无法干预，模型能否按照要求、在对话过程中提取参数并将其整理为指定格式，完全依赖模型自身的推理能力，因此这里我们需要检查模型本身是否知道中文输入的这些城市名称对应的英文名称，验证过程如下："
   ]
  },
  {
   "cell_type": "code",
   "execution_count": 73,
   "id": "8b9159aa-a393-45f7-bb79-ce6b2ad889e7",
   "metadata": {
    "tags": []
   },
   "outputs": [
    {
     "data": {
      "text/plain": [
       "'\\n 杭州市的英文名称是 Hangzhou。'"
      ]
     },
     "execution_count": 73,
     "metadata": {},
     "output_type": "execute_result"
    }
   ],
   "source": [
    "response = openai.ChatCompletion.create(\n",
    "  model=\"chatglm3-6b\",\n",
    "  messages=[\n",
    "    {\"role\": \"user\", \"content\": \"请问，杭州市的英文名称是？\"}\n",
    "  ]\n",
    ")\n",
    "response.choices[0].message['content']"
   ]
  },
  {
   "cell_type": "markdown",
   "id": "f136222a-e21c-4245-83db-2d17030158d1",
   "metadata": {},
   "source": [
    "发现模型能够顺利完成城市名称的中英文翻译。"
   ]
  },
  {
   "cell_type": "markdown",
   "id": "10587866-9234-4ef2-82ab-9fac81279f7d",
   "metadata": {},
   "source": [
    "最后需要创建get_weather函数的functions参数："
   ]
  },
  {
   "cell_type": "code",
   "execution_count": 74,
   "id": "baa583ba-633e-4f8d-9807-2480ec5cf099",
   "metadata": {
    "tags": []
   },
   "outputs": [],
   "source": [
    "weather_api_spec = [\n",
    "    {\n",
    "        'name': 'get_weather',\n",
    "        'description': '查询即时天气函数，根据输入的城市名称，查询对应城市的实时天气',\n",
    "        'parameters': {\n",
    "            'type': 'object',\n",
    "            'properties': {\n",
    "                'loc': {\n",
    "                    'description': \"城市名称，注意，中国的城市需要用对应城市的英文名称代替，例如如果需要查询北京市天气，则loc参数需要输入'Beijing'\",\n",
    "                    'type': 'string',\n",
    "                    'required': True\n",
    "                }\n",
    "            }\n",
    "        }\n",
    "    }\n",
    "]"
   ]
  },
  {
   "cell_type": "markdown",
   "id": "df55093b-91a1-4cef-bd94-da3c076773d4",
   "metadata": {},
   "source": [
    "### Stage 3、实时天气查询功能的Function calling实现"
   ]
  },
  {
   "cell_type": "markdown",
   "id": "3c850e3d-3b01-4246-a5db-95bd97d94010",
   "metadata": {},
   "source": [
    "&emsp;&emsp;在一系列验证工作结束后，接下来我们直接将这个函数放入函数库（写入functions_list函数列表），然后直接启动外链函数库之后的多轮对话机器人chat_with_model，查看对话效果。"
   ]
  },
  {
   "cell_type": "code",
   "execution_count": 89,
   "id": "1fbe24bb-7aae-4a8a-950e-c930b96cf102",
   "metadata": {
    "tags": []
   },
   "outputs": [],
   "source": [
    "system_info = {\n",
    "    \"role\": \"system\",\n",
    "    \"content\": \"Answer the following questions as best as you can. You have access to the following tools:\",\n",
    "    \"tools\": weather_api_spec,\n",
    "}"
   ]
  },
  {
   "cell_type": "code",
   "execution_count": 90,
   "id": "004390a6-ca07-4aa1-9741-47074bf0e6c8",
   "metadata": {
    "tags": []
   },
   "outputs": [
    {
     "data": {
      "text/plain": [
       "{'role': 'system',\n",
       " 'content': 'Answer the following questions as best as you can. You have access to the following tools:',\n",
       " 'tools': [{'name': 'get_weather',\n",
       "   'description': '查询即时天气函数，根据输入的城市名称，查询对应城市的实时天气',\n",
       "   'parameters': {'type': 'object',\n",
       "    'properties': {'loc': {'description': \"城市名称，注意，中国的城市需要用对应城市的英文名称代替，例如如果需要查询北京市天气，则loc参数需要输入'Beijing'\",\n",
       "      'type': 'string',\n",
       "      'required': True}}}}]}"
      ]
     },
     "execution_count": 90,
     "metadata": {},
     "output_type": "execute_result"
    }
   ],
   "source": [
    "system_info"
   ]
  },
  {
   "cell_type": "code",
   "execution_count": 118,
   "id": "f7757817-dba9-47d1-9a93-575a6bd60ded",
   "metadata": {
    "tags": []
   },
   "outputs": [],
   "source": [
    "messages = [\n",
    "        system_info,\n",
    "        {\n",
    "            \"role\": \"user\",\n",
    "            \"content\": \"请问今天北京天气如何？\",\n",
    "        }\n",
    "    ]"
   ]
  },
  {
   "cell_type": "code",
   "execution_count": 98,
   "id": "2070956c-aeb6-47cb-b6d2-7e56875f2676",
   "metadata": {
    "tags": []
   },
   "outputs": [],
   "source": [
    "# first response\n",
    "response = openai.ChatCompletion.create(\n",
    "                model=\"chatglm3-6b\",\n",
    "                messages=messages,\n",
    "                return_function_call=True)"
   ]
  },
  {
   "cell_type": "code",
   "execution_count": 99,
   "id": "a7bf69cc-95f6-40bc-acd5-7cc80febf451",
   "metadata": {
    "tags": []
   },
   "outputs": [],
   "source": [
    "response_message = response[\"choices\"][0][\"message\"]"
   ]
  },
  {
   "cell_type": "code",
   "execution_count": 100,
   "id": "7a6c7996-db69-4395-b9e7-aa823a089593",
   "metadata": {
    "tags": []
   },
   "outputs": [
    {
     "data": {
      "text/plain": [
       "<OpenAIObject at 0x7fd3d4a58360> JSON: {\n",
       "  \"role\": \"assistant\",\n",
       "  \"content\": \"{\\\"name\\\": \\\"get_weather\\\", \\\"parameters\\\": {\\\"loc\\\": \\\"Beijing\\\"}}\",\n",
       "  \"metadata\": null,\n",
       "  \"tools\": null\n",
       "}"
      ]
     },
     "execution_count": 100,
     "metadata": {},
     "output_type": "execute_result"
    }
   ],
   "source": [
    "response_message"
   ]
  },
  {
   "cell_type": "code",
   "execution_count": 101,
   "id": "fd11b12f-5364-4673-b962-8e2e3764b101",
   "metadata": {
    "tags": []
   },
   "outputs": [],
   "source": [
    "function_call = json.loads(response.choices[0].message.content)"
   ]
  },
  {
   "cell_type": "code",
   "execution_count": 102,
   "id": "9cd4303d-e8f1-40aa-9f94-25f6b41df8e5",
   "metadata": {
    "tags": []
   },
   "outputs": [
    {
     "data": {
      "text/plain": [
       "{'name': 'get_weather', 'parameters': {'loc': 'Beijing'}}"
      ]
     },
     "execution_count": 102,
     "metadata": {},
     "output_type": "execute_result"
    }
   ],
   "source": [
    "function_call"
   ]
  },
  {
   "cell_type": "code",
   "execution_count": 105,
   "id": "aeeb180e-81ec-4e13-968c-8adec7085797",
   "metadata": {
    "tags": []
   },
   "outputs": [
    {
     "data": {
      "text/plain": [
       "'get_weather'"
      ]
     },
     "execution_count": 105,
     "metadata": {},
     "output_type": "execute_result"
    }
   ],
   "source": [
    "# 需要调用外部函数\n",
    "# 获取函数名\n",
    "function_name = function_call[\"name\"]\n",
    "function_name"
   ]
  },
  {
   "cell_type": "code",
   "execution_count": 106,
   "id": "dd240cd0-5ca7-4962-a816-18daabf84408",
   "metadata": {
    "tags": []
   },
   "outputs": [],
   "source": [
    "functions_list = [get_weather]\n",
    "available_functions = {func.__name__: func for func in functions_list}"
   ]
  },
  {
   "cell_type": "code",
   "execution_count": 107,
   "id": "c3acac8e-cb6e-4dab-9159-e7a6eb08633c",
   "metadata": {
    "tags": []
   },
   "outputs": [
    {
     "data": {
      "text/plain": [
       "{'get_weather': <function __main__.get_weather(loc)>}"
      ]
     },
     "execution_count": 107,
     "metadata": {},
     "output_type": "execute_result"
    }
   ],
   "source": [
    "available_functions"
   ]
  },
  {
   "cell_type": "code",
   "execution_count": 108,
   "id": "13c630b4-a84a-4c2c-be94-276cf5247a18",
   "metadata": {
    "tags": []
   },
   "outputs": [
    {
     "data": {
      "text/plain": [
       "<function __main__.get_weather(loc)>"
      ]
     },
     "execution_count": 108,
     "metadata": {},
     "output_type": "execute_result"
    }
   ],
   "source": [
    "# 获取函数对象\n",
    "fuction_to_call = available_functions[function_name]\n",
    "fuction_to_call"
   ]
  },
  {
   "cell_type": "code",
   "execution_count": 110,
   "id": "4da56bd1-d837-4a01-b0b0-c09285ddf317",
   "metadata": {
    "tags": []
   },
   "outputs": [
    {
     "data": {
      "text/plain": [
       "{'loc': 'Beijing'}"
      ]
     },
     "execution_count": 110,
     "metadata": {},
     "output_type": "execute_result"
    }
   ],
   "source": [
    "# 获取函数参数\n",
    "function_args = function_call['parameters']\n",
    "function_args"
   ]
  },
  {
   "cell_type": "code",
   "execution_count": 111,
   "id": "fb28e835-470d-4b9c-a566-30befe03d383",
   "metadata": {
    "tags": []
   },
   "outputs": [],
   "source": [
    "function_response = fuction_to_call(**function_args)"
   ]
  },
  {
   "cell_type": "code",
   "execution_count": 112,
   "id": "86e0556c-9c5d-4037-9ecb-796353a5925a",
   "metadata": {
    "tags": []
   },
   "outputs": [
    {
     "data": {
      "text/plain": [
       "'{\"coord\": {\"lon\": 116.3972, \"lat\": 39.9075}, \"weather\": [{\"id\": 800, \"main\": \"Clear\", \"description\": \"\\\\u6674\", \"icon\": \"01n\"}], \"base\": \"stations\", \"main\": {\"temp\": 15.94, \"feels_like\": 14.58, \"temp_min\": 15.94, \"temp_max\": 15.94, \"pressure\": 1012, \"humidity\": 38, \"sea_level\": 1012, \"grnd_level\": 1006}, \"visibility\": 10000, \"wind\": {\"speed\": 2.44, \"deg\": 148, \"gust\": 5.48}, \"clouds\": {\"all\": 1}, \"dt\": 1698835768, \"sys\": {\"type\": 1, \"id\": 9609, \"country\": \"CN\", \"sunrise\": 1698792140, \"sunset\": 1698830013}, \"timezone\": 28800, \"id\": 1816670, \"name\": \"Beijing\", \"cod\": 200}'"
      ]
     },
     "execution_count": 112,
     "metadata": {},
     "output_type": "execute_result"
    }
   ],
   "source": [
    "# 获得外部函数运行结果\n",
    "function_response"
   ]
  },
  {
   "cell_type": "code",
   "execution_count": 119,
   "id": "89f70f9d-dd47-4274-8c0e-e310d7ea445d",
   "metadata": {
    "tags": []
   },
   "outputs": [],
   "source": [
    "# messages中拼接first response消息\n",
    "messages.append(response_message)  \n",
    "# messages中拼接函数输出结果\n",
    "messages.append(\n",
    "    {\n",
    "        \"role\": \"observation\",\n",
    "        \"name\": function_name,\n",
    "        \"content\": function_response,\n",
    "    }\n",
    ")  "
   ]
  },
  {
   "cell_type": "code",
   "execution_count": 120,
   "id": "3dd40d06-5396-4bcc-b900-5982d8075255",
   "metadata": {
    "tags": []
   },
   "outputs": [
    {
     "data": {
      "text/plain": [
       "[{'role': 'system',\n",
       "  'content': 'Answer the following questions as best as you can. You have access to the following tools:',\n",
       "  'tools': [{'name': 'get_weather',\n",
       "    'description': '查询即时天气函数，根据输入的城市名称，查询对应城市的实时天气',\n",
       "    'parameters': {'type': 'object',\n",
       "     'properties': {'loc': {'description': \"城市名称，注意，中国的城市需要用对应城市的英文名称代替，例如如果需要查询北京市天气，则loc参数需要输入'Beijing'\",\n",
       "       'type': 'string',\n",
       "       'required': True}}}}]},\n",
       " {'role': 'user', 'content': '请问今天北京天气如何？'},\n",
       " <OpenAIObject at 0x7fd3d4a58360> JSON: {\n",
       "   \"role\": \"assistant\",\n",
       "   \"content\": \"{\\\"name\\\": \\\"get_weather\\\", \\\"parameters\\\": {\\\"loc\\\": \\\"Beijing\\\"}}\",\n",
       "   \"metadata\": null,\n",
       "   \"tools\": null\n",
       " },\n",
       " {'role': 'observation',\n",
       "  'name': 'get_weather',\n",
       "  'content': '{\"coord\": {\"lon\": 116.3972, \"lat\": 39.9075}, \"weather\": [{\"id\": 800, \"main\": \"Clear\", \"description\": \"\\\\u6674\", \"icon\": \"01n\"}], \"base\": \"stations\", \"main\": {\"temp\": 15.94, \"feels_like\": 14.58, \"temp_min\": 15.94, \"temp_max\": 15.94, \"pressure\": 1012, \"humidity\": 38, \"sea_level\": 1012, \"grnd_level\": 1006}, \"visibility\": 10000, \"wind\": {\"speed\": 2.44, \"deg\": 148, \"gust\": 5.48}, \"clouds\": {\"all\": 1}, \"dt\": 1698835768, \"sys\": {\"type\": 1, \"id\": 9609, \"country\": \"CN\", \"sunrise\": 1698792140, \"sunset\": 1698830013}, \"timezone\": 28800, \"id\": 1816670, \"name\": \"Beijing\", \"cod\": 200}'}]"
      ]
     },
     "execution_count": 120,
     "metadata": {},
     "output_type": "execute_result"
    }
   ],
   "source": [
    "messages"
   ]
  },
  {
   "cell_type": "code",
   "execution_count": 124,
   "id": "8d935eb9-e4cd-426e-8d93-e86837d5d7c5",
   "metadata": {
    "tags": []
   },
   "outputs": [],
   "source": [
    "# 第二次调用模型\n",
    "second_response = openai.ChatCompletion.create(\n",
    "    model=\"chatglm3-6b\",\n",
    "    messages=messages,\n",
    ")  "
   ]
  },
  {
   "cell_type": "code",
   "execution_count": 125,
   "id": "c0357cc5-0d20-4b91-a328-a9f1275d0b29",
   "metadata": {
    "tags": []
   },
   "outputs": [
    {
     "data": {
      "text/plain": [
       "'\\n 今天北京的天气是晴朗的，当前温度为15.94℃，相对湿度为38%，气压为1012百帕斯卡。'"
      ]
     },
     "execution_count": 125,
     "metadata": {},
     "output_type": "execute_result"
    }
   ],
   "source": [
    "# 获取最终结果\n",
    "final_response = second_response[\"choices\"][0][\"message\"][\"content\"]\n",
    "final_response"
   ]
  },
  {
   "cell_type": "markdown",
   "id": "65e65629-5205-4c99-aa20-f06c085b303f",
   "metadata": {},
   "source": [
    "### Stage 4、函数封装与测试"
   ]
  },
  {
   "cell_type": "code",
   "execution_count": 143,
   "id": "654d02e6-115e-493f-bceb-c191b2003bfe",
   "metadata": {
    "tags": []
   },
   "outputs": [],
   "source": [
    "def run_conv_glm(messages, functions_list=None, functions=None, model=\"chatglm3-6b\", return_function_call=True):\n",
    "    \"\"\"\n",
    "    能够自动执行外部函数调用的Chat对话模型\n",
    "    :param messages: 必要参数，输入到Chat模型的messages参数对象\n",
    "    :param functions_list: 可选参数，默认为None，可以设置为包含全部外部函数的列表对象\n",
    "    :param model: Chat模型，可选参数，默认模型为chatglm3-6b\n",
    "    :return：Chat模型输出结果\n",
    "    \"\"\"\n",
    "    def is_json_string(s):\n",
    "        try:\n",
    "            json_object = json.loads(s)\n",
    "        except ValueError as e:\n",
    "            return False\n",
    "        return True\n",
    "\n",
    "    \n",
    "    user_messages = messages\n",
    "    \n",
    "    # 如果没有外部函数库，则执行普通的对话任务\n",
    "    if functions_list == None:\n",
    "        response = openai.ChatCompletion.create(\n",
    "                        model=model,\n",
    "                        messages=user_messages,\n",
    "                        )\n",
    "        response_message = response[\"choices\"][0][\"message\"]\n",
    "        final_response = response_message[\"content\"]\n",
    "        \n",
    "    # 若存在外部函数库，则需要灵活选取外部函数并进行回答\n",
    "    else:\n",
    "        # 创建调用外部函数的system_message\n",
    "        system_info = [{\n",
    "            \"role\": \"system\",\n",
    "            \"content\": \"Answer the following questions as best as you can. You have access to the following tools:\",\n",
    "            \"tools\": functions,\n",
    "        }]\n",
    "        # 创建外部函数库字典\n",
    "        available_functions = {func.__name__: func for func in functions_list}\n",
    "\n",
    "        # 创建包含用户问题的message\n",
    "        messages = system_info + user_messages\n",
    "        \n",
    "        # first response\n",
    "        response = openai.ChatCompletion.create(\n",
    "                        model=model,\n",
    "                        messages=messages,\n",
    "                        return_function_call=return_function_call)\n",
    "        response_message = response[\"choices\"][0][\"message\"]\n",
    "\n",
    "        # 判断返回结果是否为json格式对象，即判断是否需要调用外部函数来回答问题\n",
    "        if is_json_string(response_message[\"content\"]):\n",
    "            # 需要调用外部函数\n",
    "            function_call = json.loads(response.choices[0].message.content)\n",
    "            # 获取函数名\n",
    "            function_name = function_call[\"name\"]\n",
    "            # 获取函数对象\n",
    "            fuction_to_call = available_functions[function_name]\n",
    "            # 获取函数参数\n",
    "            function_args = function_call['parameters']\n",
    "            # 将函数参数输入到函数中，获取函数计算结果\n",
    "            function_response = fuction_to_call(**function_args)\n",
    "\n",
    "            # messages中拼接first response消息\n",
    "            messages.append(response_message)  \n",
    "            # messages中拼接函数输出结果\n",
    "            messages.append(\n",
    "                {\n",
    "                    \"role\": \"observation\",\n",
    "                    \"name\": function_name,\n",
    "                    \"content\": function_response,\n",
    "                }\n",
    "            )  \n",
    "            # 第二次调用模型\n",
    "            second_response = openai.ChatCompletion.create(\n",
    "                model=model,\n",
    "                messages=messages,\n",
    "            )  \n",
    "            # 获取最终结果\n",
    "            final_response = second_response[\"choices\"][0][\"message\"][\"content\"]\n",
    "        else:\n",
    "            final_response = response_message[\"content\"]\n",
    "    \n",
    "    return final_response"
   ]
  },
  {
   "cell_type": "code",
   "execution_count": 144,
   "id": "d597f767-211f-499f-9e46-56dd8e632901",
   "metadata": {
    "tags": []
   },
   "outputs": [
    {
     "data": {
      "text/plain": [
       "'\\n 机器学习是一种人工智能的分支，旨在使计算机程序通过数据和经验自动改进其性能。机器学习算法可以分析大量数据，识别模式和规律，并根据这些信息做出预测或决策，而不需要显式地指定程序执行特定任务。\\n\\n在机器学习中，计算机通常被训练成从输入数据中提取特征，并将这些特征映射到输出结果。例如，在图像分类任务中，机器学习算法会通过训练大量已标记的图像，来学习识别特定类别的图像特征，并最终将新的图像分类为相应的类别。\\n\\n机器学习的应用非常广泛，包括语音和图像识别、自然语言处理、推荐系统、游戏AI等等。'"
      ]
     },
     "execution_count": 144,
     "metadata": {},
     "output_type": "execute_result"
    }
   ],
   "source": [
    "run_conv_glm([{\"role\": \"user\", \"content\": \"请问什么是机器学习？\"}])"
   ]
  },
  {
   "cell_type": "code",
   "execution_count": 140,
   "id": "405ea410-e282-446e-8e79-b56a5c1fddb3",
   "metadata": {
    "tags": []
   },
   "outputs": [
    {
     "data": {
      "text/plain": [
       "'\\n 根据您的查询，“北京今天天气如何”，我调用了名为“get_weather”的API函数，并传入了参数“loc”等于“Beijing”。经过调用，我获得了北京今天的天气情况。据API返回结果显示，北京今天天气晴朗，气温最高为15.94℃，最低为15.94℃，气压为1012百帕，湿度为38%。同时，API还提供了其他一些详细信息，如风向、风速、云量等。'"
      ]
     },
     "execution_count": 140,
     "metadata": {},
     "output_type": "execute_result"
    }
   ],
   "source": [
    "messages = [{\"role\": \"user\", \"content\": \"请问北京今天天气如何？\"}]\n",
    "run_conv_glm(messages=messages, functions_list=[get_weather], functions=weather_api_spec)"
   ]
  },
  {
   "cell_type": "code",
   "execution_count": 141,
   "id": "d2ecbc94-c305-4af1-8da9-86ead54f1010",
   "metadata": {
    "tags": []
   },
   "outputs": [
    {
     "data": {
      "text/plain": [
       "'机器学习和深度学习都是人工智能领域的技术。它们之间的主要区别在于所使用的算法和模型不同。机器学习是一种通过训练数据来让计算机自动学习知识和技能的方法，它使用的算法通常包括决策树、神经网络和支持向量机等。而深度学习则是一种使用深度神经网络来模拟人脑工作原理的方法，这种方法可以自动学习复杂的特征和模式，并对其进行分类和预测。因此，机器学习更注重于手工设计特征和模型，而深度学习更注重于从数据中自动学习特征和模型。'"
      ]
     },
     "execution_count": 141,
     "metadata": {},
     "output_type": "execute_result"
    }
   ],
   "source": [
    "messages = [{\"role\": \"user\", \"content\": \"请问机器学习和深度学习有什么区别？\"}]\n",
    "run_conv_glm(messages=messages, functions_list=[get_weather], functions=weather_api_spec)"
   ]
  },
  {
   "cell_type": "markdown",
   "id": "c9ad2bba-1d6a-4894-94db-6f57a05769b2",
   "metadata": {},
   "source": [
    "- 创建多轮对话函数"
   ]
  },
  {
   "cell_type": "code",
   "execution_count": 147,
   "id": "f50ff51d-8306-4d09-a454-8e6dcb7c7327",
   "metadata": {
    "tags": []
   },
   "outputs": [],
   "source": [
    "def chat_with_glm(question,\n",
    "                  functions_list=None, \n",
    "                  functions=None, \n",
    "                  model=\"chatglm3-6b\", \n",
    "                  return_function_call=True):\n",
    "    \n",
    "    messages = [{\"role\": \"user\", \"content\": question}]\n",
    "    \n",
    "    while True:           \n",
    "        answer = run_conv_glm(messages=messages, \n",
    "                              functions_list=functions_list, \n",
    "                              functions=functions, \n",
    "                              model=model, \n",
    "                              return_function_call=return_function_call)\n",
    "        \n",
    "        \n",
    "        print(f\"模型回答: {answer}\")\n",
    "\n",
    "        # 询问用户是否还有其他问题\n",
    "        question = input(\"您还有其他问题吗？(输入退出以结束对话): \")\n",
    "        if question == \"退出\":\n",
    "            break\n",
    "\n",
    "        # 记录用户回答\n",
    "        messages.append({\"role\": \"assistant\", \"content\": answer})\n",
    "        messages.append({\"role\": \"user\", \"content\": question})\n",
    "        \n",
    "    del messages"
   ]
  },
  {
   "cell_type": "markdown",
   "id": "a82f076d-ecff-457c-b354-404797df4fdc",
   "metadata": {},
   "source": [
    "- 多论对话功能测试"
   ]
  },
  {
   "cell_type": "code",
   "execution_count": 148,
   "id": "96f447e4-c327-4d30-9612-9535503d28dc",
   "metadata": {
    "tags": []
   },
   "outputs": [
    {
     "name": "stdout",
     "output_type": "stream",
     "text": [
      "模型回答: \n",
      " 根据API调用结果可以看出，今天杭州的天气是晴朗的，温度约为19.95摄氏度，相对湿度为51%，风向为北风，风力为2.1米每秒。建议您出门前查看最新天气预报，做好出行准备。\n"
     ]
    },
    {
     "name": "stdin",
     "output_type": "stream",
     "text": [
      "您还有其他问题吗？(输入退出以结束对话):  那北京呢？天气如何？\n"
     ]
    },
    {
     "name": "stdout",
     "output_type": "stream",
     "text": [
      "模型回答: \n",
      " 北京今天的天气情况如下：晴朗，最高气温为15.94℃，最低气温为14.58℃。相对湿度为38%，风向为北风，风力为2.44米每秒。请注意适时增减衣物，祝您有个愉快的一天！\n"
     ]
    },
    {
     "name": "stdin",
     "output_type": "stream",
     "text": [
      "您还有其他问题吗？(输入退出以结束对话):  北京比杭州更冷么？\n"
     ]
    },
    {
     "name": "stdout",
     "output_type": "stream",
     "text": [
      "模型回答: 从今天的天气情况来看，北京的气温比杭州低，因此可以说北京比杭州更冷。 However，气温并不能完全反映人们对天气的感觉，还需要考虑其他因素，如相对湿度、风速等。因此，在实际出门时，可以根据自己的感觉来判断天气是否适宜。\n"
     ]
    },
    {
     "name": "stdin",
     "output_type": "stream",
     "text": [
      "您还有其他问题吗？(输入退出以结束对话):  退出\n"
     ]
    }
   ],
   "source": [
    "chat_with_glm(question=\"请问杭州今天天气如何？\", \n",
    "              functions_list=[get_weather], \n",
    "              functions=weather_api_spec)"
   ]
  },
  {
   "cell_type": "markdown",
   "id": "d348a6bb-1f4f-451e-be13-326b40da212c",
   "metadata": {},
   "source": [
    "- 推理能力测试"
   ]
  },
  {
   "cell_type": "code",
   "execution_count": 149,
   "id": "263d71c7-7268-4266-a0d1-0234b0066fc4",
   "metadata": {
    "tags": []
   },
   "outputs": [
    {
     "name": "stdout",
     "output_type": "stream",
     "text": [
      "模型回答: 你好，请问有什么可以帮助你的吗？\n"
     ]
    },
    {
     "name": "stdin",
     "output_type": "stream",
     "text": [
      "您还有其他问题吗？(输入退出以结束对话):  请问南昌今天天气如何？\n"
     ]
    },
    {
     "name": "stdout",
     "output_type": "stream",
     "text": [
      "模型回答: 我们可以使用一个天气预报的API来获取南昌的天气信息。请问你能告诉我南昌的英文名称吗？\n"
     ]
    },
    {
     "name": "stdin",
     "output_type": "stream",
     "text": [
      "您还有其他问题吗？(输入退出以结束对话):  NanChang\n"
     ]
    },
    {
     "name": "stdout",
     "output_type": "stream",
     "text": [
      "模型回答: \n",
      " 今天南昌的天气情况如下：南昌现在多云，气温为23度，相对湿度为50%，风向为北风，风力为2.09米/秒。\n"
     ]
    },
    {
     "name": "stdin",
     "output_type": "stream",
     "text": [
      "您还有其他问题吗？(输入退出以结束对话):  相比之下，北京更冷还是更热呢？\n"
     ]
    },
    {
     "name": "stdout",
     "output_type": "stream",
     "text": [
      "模型回答: 根据上述计算结果，可以看出南昌明天预计比北京更热。\n"
     ]
    },
    {
     "name": "stdin",
     "output_type": "stream",
     "text": [
      "您还有其他问题吗？(输入退出以结束对话):  北京天气如何呀？\n"
     ]
    },
    {
     "name": "stdout",
     "output_type": "stream",
     "text": [
      "模型回答: 据天气预报显示，北京明天的天气状况为晴，气温约为-6度，相对湿度约为41%，风向为西风，风力约为2.12米/秒。\n"
     ]
    },
    {
     "name": "stdin",
     "output_type": "stream",
     "text": [
      "您还有其他问题吗？(输入退出以结束对话):  退出\n"
     ]
    }
   ],
   "source": [
    "chat_with_glm(question=\"你好\", \n",
    "              functions_list=[get_weather], \n",
    "              functions=weather_api_spec)"
   ]
  },
  {
   "cell_type": "markdown",
   "id": "9dcaf455-0b7c-4a7b-8773-28b40f511489",
   "metadata": {},
   "source": [
    "- SQL代码解释器"
   ]
  },
  {
   "cell_type": "code",
   "execution_count": 171,
   "id": "f56298bf-38c4-4e37-bfc3-d264c8b94b44",
   "metadata": {
    "tags": []
   },
   "outputs": [],
   "source": [
    "def sql_inter(sql_query):\n",
    "    \"\"\"\n",
    "    用于执行一段SQL代码，并最终获取SQL代码执行结果，\\\n",
    "    核心功能是将输入的SQL代码传输至MySQL环境中进行运行，\\\n",
    "    并最终返回SQL代码运行结果。需要注意的是，本函数是借助pymysql来连接MySQL数据库。\n",
    "    :param sql_query: 字符串形式的SQL查询语句，用于执行对MySQL中telco_db数据库中各张表进行查询，并获得各表中的各类相关信息\n",
    "    :return：sql_query在MySQL中的运行结果。\n",
    "    \"\"\"\n",
    "    \n",
    "    \n",
    "    connection = pymysql.connect(\n",
    "            host=MY_IP,  # 数据库地址\n",
    "            user='4u',  # 数据库用户名\n",
    "            passwd=MY_PW,  # 数据库密码\n",
    "            db='telco_db',  # 数据库名\n",
    "            charset='utf8'  # 字符集选择utf8\n",
    "        )\n",
    "    \n",
    "    try:\n",
    "        with connection.cursor() as cursor:\n",
    "            # SQL查询语句\n",
    "            sql = sql_query\n",
    "            cursor.execute(sql)\n",
    "\n",
    "            # 获取查询结果\n",
    "            results = cursor.fetchall()\n",
    "\n",
    "    finally:\n",
    "        connection.close()\n",
    "    \n",
    "    \n",
    "    return json.dumps(results)"
   ]
  },
  {
   "cell_type": "code",
   "execution_count": 177,
   "id": "cabaa9df-dd0f-4268-8320-1fa377b78835",
   "metadata": {
    "tags": []
   },
   "outputs": [],
   "source": [
    "sql_inter_function_info = [\n",
    "    {\n",
    "    'name': 'sql_inter',\n",
    "    'description': '用于执行一段SQL代码，并最终获取SQL代码执行结果，核心功能是将输入的SQL代码传输至MySQL环境中进行运行，并最终返回SQL代码运行结果。',\n",
    "    'parameters': {\n",
    "        'type': 'object',\n",
    "        'properties': {\n",
    "            'sql_query': {\n",
    "                'type': 'string',\n",
    "                'description': '字符串形式的SQL代码，可以在MySQL中运行，并获取运行结果'\n",
    "            }\n",
    "        },\n",
    "        'required': ['sql_query']\n",
    "    }\n",
    "}\n",
    "]"
   ]
  },
  {
   "cell_type": "code",
   "execution_count": 173,
   "id": "56e4e8ac-dee9-41d4-98e6-080f7513c23f",
   "metadata": {
    "tags": []
   },
   "outputs": [],
   "source": [
    "# 打开并读取Markdown文件\n",
    "with open('telco_data_dictionary.md', 'r', encoding='utf-8') as f:\n",
    "    data_dictionary = f.read()"
   ]
  },
  {
   "cell_type": "code",
   "execution_count": 174,
   "id": "07382294-4f7f-4397-9817-d170b2171f20",
   "metadata": {},
   "outputs": [
    {
     "data": {
      "text/plain": [
       "'[[5353]]'"
      ]
     },
     "execution_count": 174,
     "metadata": {},
     "output_type": "execute_result"
    }
   ],
   "source": [
    "sql_inter(sql_query='SELECT COUNT(*) FROM user_demographics;')"
   ]
  },
  {
   "cell_type": "code",
   "execution_count": 182,
   "id": "1fb4fa4d-8ca7-433a-8e31-599252830792",
   "metadata": {
    "tags": []
   },
   "outputs": [
    {
     "data": {
      "text/markdown": [
       "# telco_data_dictionary：telco_db数据库数据字典\n",
       "\n",
       "本数据字典记录了telco_db数据库中各张数据表的基本情况。\n",
       "\n",
       "## 1.user_demographics数据表\n",
       "\n",
       "- 基本解释\n",
       "\n",
       "  ​\t\tuser_demographics数据表记录了电信用户的个人基本情况，主要涵盖客户基本生物属性，包括性别、年龄状况、是否结婚以及是否经济独立等。\n",
       "\n",
       "- 数据来源\n",
       "\n",
       "  ​\tuser_demographics数据集由一线业务人员人工采集记录，并且通过回访确认相关信息，数据集的准确性和可信度都非常高。\n",
       "\n",
       "- 各字段说明\n",
       "\n",
       "| Column Name | Description | Value Range | Value Explanation | Type |\n",
       "|-------------|-------------|-------------|-------------------|------|\n",
       "| customerID | 客户ID，user_demographics数据表主键 |              | 由数字和字母组成的 | VARCHAR(255) |\n",
       "| gender | 用户的性别 | Female, Male | Female (女性), Male (男性) | VARCHAR(255) |\n",
       "| SeniorCitizen | 是否为老人 | 0, 1 | 0 (不是), 1 (是) | INT |\n",
       "| Partner | 用户是否有伴侣 | Yes, No | Yes (有), No (没有) | VARCHAR(255) |\n",
       "| Dependents | 用户经济是否独立，往往用于判断用户是否已经成年 | No, Yes | Yes (有), No (没有) | VARCHAR(255) |\n",
       "\n",
       "## 2.user_services数据表\n",
       "\n",
       "- 基本解释\n",
       "\n",
       "  ​        user_services数据表记录了每位用户订购电信服务的基本情况，截至目前，电信服务商提供了种类多样的服务，包括电话类服务和网络类服务等，本数据集表记录了每位用户订阅电信服务的基本情况。\n",
       "\n",
       "- 数据来源\n",
       "\n",
       "  ​\t\tuser_services数据表由后台系统自动创建生成，并未经过人工校验。\n",
       "\n",
       "- 各字段说明\n",
       "\n",
       "| Column Name | Description | Value Range | Value Explanation | Type |\n",
       "|-------------|-------------|-------------|-------------------|------|\n",
       "| customerID | 客户ID，user_services数据表主键 |  | 由数字和字母组成的 | VARCHAR(255) |\n",
       "| PhoneService | 用户是否有电话服务 | No, Yes | Yes (有), No (没有) | VARCHAR(255) |\n",
       "| MultipleLines | 用户是否开通了多条电话业务 | No phone service, No, Yes | Yes (有多条电话线业务), No (没有多条电话线业务), No phone service (没有电话服务) | VARCHAR(255) |\n",
       "| InternetService | 用户的互联网服务类型 | DSL, Fiber optic, No | DSL (DSL), Fiber optic (光纤), No (没有) | VARCHAR(255) |\n",
       "| OnlineSecurity | 是否开通网络安全服务 | No, Yes, No internet service | Yes（有）、No（无） or No internetservice（没有网路服务） | VARCHAR(255) |\n",
       "| OnlineBackup | 是否开通在线备份服务 | Yes, No, No internet service | Yes（有）、No（无） or No internetservice（没有网路服务） | VARCHAR(255) |\n",
       "| DeviceProtection | 是否开通设备保护服务 | No, Yes, No internet service | Yes（有）、No（无） or No internetservice（没有网路服务） | VARCHAR(255) |\n",
       "| TechSupport | 是否开通技术支持业务 | No, Yes, No internet service | Yes（有）、No（无） or No internetservice（没有网路服务） | VARCHAR(255) |\n",
       "| StreamingTV | 是否开通网络电视 | No, Yes, No internet service | Yes（有）、No（无） or No internetservice（没有网路服务） | VARCHAR(255) |\n",
       "| StreamingMovies | 是否开通网络电影 | No, Yes, No internet service | Yes（有）、No（无） or No internetservice（没有网路服务） | VARCHAR(255) |\n",
       "\n",
       "## 3.user_payments数据表\n",
       "\n",
       "- 基本解释\n",
       "\n",
       "  ​\t\tuser_payments数据表记录了每一位用户支付状况，既包括用户的支付方式和合同类型，同时也包含用户具体支付金额，包括月付金额和总金额等。\n",
       "\n",
       "- 数据来源\n",
       "\n",
       "  ​\t\tuser_payments数据表由后台自动记录生成，并未经过校验。\n",
       "\n",
       "- 各字段说明\n",
       "\n",
       "| Column Name | Description | Value Range | Value Explanation | Type |\n",
       "|-------------|-------------|-------------|-------------------|------|\n",
       "| customerID | 客户ID，user_payments数据表主键 |  | 由数字和字母组成的 | VARCHAR(255) |\n",
       "| Contract | 合同类型 | Month-to-month, One year, Two year | Month-to-month (月付), One year (一年付), Two year (两年付) | VARCHAR(255) |\n",
       "| PaperlessBilling | 是否无纸化账单 | Yes, No | Yes (是), No (否) | VARCHAR(255) |\n",
       "| PaymentMethod | 支付方式 | Electronic check, Mailed check, Bank transfer (automatic), Credit card (automatic) | Electronic check (电子检查), Mailed check (邮寄支票), Bank transfer (automatic) (银行转账), Credit card (automatic) (信用卡) | VARCHAR(255) |\n",
       "| MonthlyCharges | 月费用 |  | 用户平均每月支付费用 | FLOAT        |\n",
       "| TotalCharges | 总费用 |  | 截至目前用户总消费金额 | VARCHAR(255) |\n",
       "\n",
       "## 4.user_churn\n",
       "\n",
       "- 基本解释\n",
       "\n",
       "  ​\t\tuser_churn数据表记录了当前用户流失情况。\n",
       "\n",
       "- 数据来源\n",
       "\n",
       "  ​\t\tuser_churn数据表由后台自动创建并记录，当合同截至后但用户未续费，则判断该用户目前处于流失状态。\n",
       "\n",
       "- 各字段说明\n",
       "\n",
       "| Column Name | Description | Value Range | Value Explanation | Type |\n",
       "|-------------|-------------|-------------|-------------------|------|\n",
       "| customerID | 客户ID，user_churn数据表主键 |             | 由数字和字母组成的 | VARCHAR(255) |\n",
       "| Churn | 用户是否流失 | No, Yes | Yes (是), No (否) | VARCHAR(255) |\n",
       "\n"
      ],
      "text/plain": [
       "<IPython.core.display.Markdown object>"
      ]
     },
     "metadata": {},
     "output_type": "display_data"
    }
   ],
   "source": [
    "display(Markdown(data_dictionary))"
   ]
  },
  {
   "cell_type": "code",
   "execution_count": 179,
   "id": "00a1dfdc-1d9b-4b7f-9173-d1e0a99f2769",
   "metadata": {
    "tags": []
   },
   "outputs": [
    {
     "name": "stdout",
     "output_type": "stream",
     "text": [
      "模型回答: 你好！有什么我可以帮助你的吗？\n"
     ]
    },
    {
     "name": "stdin",
     "output_type": "stream",
     "text": [
      "您还有其他问题吗？(输入退出以结束对话):  请帮我查看user_demographics表中总共有多少条数据？\n"
     ]
    },
    {
     "name": "stdout",
     "output_type": "stream",
     "text": [
      "模型回答: \n",
      " 根据查询结果，user_demographics表中共有5353条数据。\n"
     ]
    },
    {
     "name": "stdin",
     "output_type": "stream",
     "text": [
      "您还有其他问题吗？(输入退出以结束对话):  其中男性用户占比多少呢？\n"
     ]
    },
    {
     "name": "stdout",
     "output_type": "stream",
     "text": [
      "模型回答: 根据查询结果，在user_demographics表中，男性用户的数量为2678，女性用户的数量为2675，因此男性用户占比为49.99%。\n"
     ]
    },
    {
     "name": "stdin",
     "output_type": "stream",
     "text": [
      "您还有其他问题吗？(输入退出以结束对话):  非常棒。那接下来请问user_payments数据表中，月消费金额最高的用户是哪位？\n"
     ]
    },
    {
     "name": "stdout",
     "output_type": "stream",
     "text": [
      "模型回答: \n",
      " 根据查询结果，月消费金额最高的用户为5734-EJKXG，其月消费金额为118.60元。\n"
     ]
    },
    {
     "name": "stdin",
     "output_type": "stream",
     "text": [
      "您还有其他问题吗？(输入退出以结束对话):  退出\n"
     ]
    }
   ],
   "source": [
    "chat_with_glm(question=data_dictionary + \"你好\", \n",
    "              functions_list=[sql_inter], \n",
    "              functions=sql_inter_function_info)"
   ]
  }
 ],
 "metadata": {
  "kernelspec": {
   "display_name": "Python 3 (ipykernel)",
   "language": "python",
   "name": "python3"
  },
  "language_info": {
   "codemirror_mode": {
    "name": "ipython",
    "version": 3
   },
   "file_extension": ".py",
   "mimetype": "text/x-python",
   "name": "python",
   "nbconvert_exporter": "python",
   "pygments_lexer": "ipython3",
   "version": "3.11.4"
  }
 },
 "nbformat": 4,
 "nbformat_minor": 5
}
