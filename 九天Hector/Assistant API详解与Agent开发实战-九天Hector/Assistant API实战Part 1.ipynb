{
 "cells": [
  {
   "cell_type": "markdown",
   "id": "88811d48-a17f-4e7d-aaba-e8a48c5faca5",
   "metadata": {},
   "source": [
    "# <center> OpenAI Assistants API入门与实践"
   ]
  },
  {
   "cell_type": "markdown",
   "id": "3077f979-8985-4c99-a74e-b2405685e885",
   "metadata": {},
   "source": [
    "## <center> Part 1.Assistants API功能介绍与基本调用方法"
   ]
  },
  {
   "cell_type": "markdown",
   "id": "39d12b29-64d7-4938-be8e-4e8c00e6ff8b",
   "metadata": {},
   "source": [
    "- AI Agent开发与Assistant API"
   ]
  },
  {
   "cell_type": "markdown",
   "id": "744df1c1-4036-463a-ae38-6c8992d3b49f",
   "metadata": {},
   "source": [
    "&emsp;&emsp;自ChatGPT掀起大模型技术浪潮，关于如何围绕大模型来搭建AI应用，就一直是业内技术探索的重要方向。从早期的AutoGPT小试牛刀，尝试将GPT-4和电脑环境打通，从而打造了第一款爆火的AI应用；再到LangChain横空出世，一举提出AI应用开发流程与统一开发框架；再到近段时间的AI Agent的概念提出与实践，短短不到一年时间内，围绕大模型的AI应用开发的这些理念可以说是百家争鸣。"
   ]
  },
  {
   "cell_type": "markdown",
   "id": "d1903275-d76d-4554-a7e9-c6d70411db51",
   "metadata": {},
   "source": [
    "&emsp;&emsp;而于此同时，作为全球大模型技术的领军人物，OpenAI也一直在积极探索未来AI应用开发的“终极形态”。不过相比其他第三方机构，OpenAI拥有目前业内最强的大语言模型（之一），并且GPT系列模型也是目前AI应用最热门的模型之一。因此，在同时拥有大模型以及海量AI应用开发者经验的基础上，OpenAI对于AI应用开发流程的革新，稳健而致命。"
   ]
  },
  {
   "cell_type": "markdown",
   "id": "8ae132b2-e64d-4deb-98e2-69bca1df7bd8",
   "metadata": {},
   "source": [
    "&emsp;&emsp;所谓稳健，指的是很长一段时间一来，OpenAI看起来并不急于提出自己的AI应用开发流程，哪怕是在LangChain如日中天之时，OepnAI仍然专注于GPT系大模型的研发、更新和迭代，而在AI应用功能探索方面，此前OpenAI的动作只局限与在gpt-0613版模型中新增了Function calling功能；而所谓致命，则是每次OpenAI的功能更新，总能直击AI应用开发的最核心痛点，从而根本性的重塑当前AI应用开发格局。此前OpenAI提出的Function calling功能，尽管看起来只是在模型中增加了一个可选的参数，但本质上则是一举实现了模型内容调用外部函数的功能，很明显，连接外部工具的能力就是AI应用开发流程中最为重要的能力，而Function calling功能的提出，也彻底改变了此前AI应用开发的流程，并且直接催生了诸如Open Interpreter一大批优秀的AI应用。"
   ]
  },
  {
   "cell_type": "markdown",
   "id": "97bcb4f7-1a44-4e48-91d6-e0b67fa17651",
   "metadata": {},
   "source": [
    "<center><img src=\"https://ml2022.oss-cn-hangzhou.aliyuncs.com/img/202311091958360.png\" alt=\"f3ef79bc4defef2418d4cd0fe2fba61\" style=\"zoom:15%;\" />"
   ]
  },
  {
   "cell_type": "markdown",
   "id": "861af7fa-465d-4d59-9be6-aaff48f98169",
   "metadata": {},
   "source": [
    "&emsp;&emsp;而在2023年11月6日的OpenAI开发者大会上，OpenAI再次提出极具跨时代意义的AI应用开发API——Assistant API。不同于此前的Function calling只是在模型内部新增了一个内置功能，Assistant API是一个完整独立的AI应用开发API，当然，如果我们带入Agent思维惯性来看待Assistant API的话，Assistant API就是一个专门用于开发AI Agent的API，或者说这就是一个由OpenAI提出的AI Agent开发范式（从更严谨的角度来说，Assistant API其实是一个专门用于开发Agent的定制化API）。据Sam Altman介绍，借助Assistant API，能够大幅提高Agent开发效率。当然，采用另一套API来重新构建Agent，毫无疑问也就相当于是重塑目前通用的Agent开发流程，甚至是AI应用开发格局。"
   ]
  },
  {
   "cell_type": "markdown",
   "id": "91a423a8-c345-46f7-a493-ac5942fb5013",
   "metadata": {},
   "source": [
    "<center><img src=\"https://ml2022.oss-cn-hangzhou.aliyuncs.com/img/202311092001767.png\" alt=\"726d6dbce60ef41f8dc6ee4780d882b\" style=\"zoom:33%;\" />"
   ]
  },
  {
   "cell_type": "markdown",
   "id": "3cb7ea2a-e1a6-4f94-8ed3-fe653001f08a",
   "metadata": {},
   "source": [
    "### 1.Assistant API功能介绍"
   ]
  },
  {
   "cell_type": "markdown",
   "id": "1803b966-d13c-4ee5-8cfa-ef6d2752a30b",
   "metadata": {},
   "source": [
    "&emsp;&emsp;从功能实现层面来说，Assistant API是截至目前最完整、性能最强大的AI应用开发API，具体功能如下：\n",
    "- 首先，Assistant API前所未有的能够调用OpenAI各模型的各项能力，包括可以调用Chat系列模型（即GPT系列模型）完成文本对话、调用DALL·E 3进行绘图、调用GPT-4-vision进行图像识别、以及调用Text-to-Speech模型进行语音转文字等，并且支持在一轮对话中调用不同模型；\n",
    "- 其次，Assistant API还内置了代码解释器功能（Code interpreter）和海量文本信息提取功能（Knowledge retrieval）同时也一如既往支持借助Function calling进行模型功能层面拓展，此外，非常重要的是，Assistant API还支持在一轮对话中调用多个工具；\n",
    "- 其三，此外对于开发者非常友好的一点是，Assistant API最小运行单元为持久化的线程对象（persistent Threads），因此在实际运行Assistant API时，不仅能可以精确控制每一步的执行过程，同时persistent Threads也会保留每轮对话的核心信息，并且当超出模型接收信息最大上下文限制时能够自动删除早期信息，从而实现对模型短期记忆的合理管理；\n",
    "- 其四，Assistant API还能够直接连接OpenAI在线文档库，即如果用户将外部文档保存在OpenAI云空间内，则可以在调用Assistant API时实时访问文档库中的任意文件，甚至可以在不同线程中调用不同的文档。而在借助Assistant API的Knowledge retrieval功能，则可以让大模型实时获取这些文件信息，并且合理管理短期记忆；"
   ]
  },
  {
   "cell_type": "markdown",
   "id": "aa6b27b1-bd49-4b86-b476-47d7451f6ff7",
   "metadata": {},
   "source": [
    "&emsp;&emsp;由此不难看出，Assistant API统一了OpenAI各模型的调用流程，并且将此前最为重要的一些大模型应用，例如本地知识库搭建、代码解释器等功能都集成为基础功能，并且一些较为复杂的开发流程，例如模型的长短期记忆管理等，也都得到大幅简化，并且还增强了工具调用性能。如此种种，也都是Assistant API号称能够大幅提升Agent开发效率的根本原因。"
   ]
  },
  {
   "cell_type": "markdown",
   "id": "5bfa9449-a539-49b4-b78a-7c2d73e4b00f",
   "metadata": {},
   "source": [
    "### 2.Assistant API初步使用"
   ]
  },
  {
   "cell_type": "markdown",
   "id": "5be2abed-07e3-48f6-a65f-1e6abab9e7fd",
   "metadata": {},
   "source": [
    "- 公开课课程大纲"
   ]
  },
  {
   "cell_type": "markdown",
   "id": "7dcbd060-f7a8-4c6a-b526-c710ae7fcc75",
   "metadata": {},
   "source": [
    "&emsp;&emsp;在基本了解Assistant功能特性之后，接下来我们就借助代码来简单调用Assistant API来完成一次对话。这里需要注意的是，在Assistant API坐拥如此强大功能的同时，Assistant API本身调用结构非常复杂，从创建一个Assistant到输出结果至少需要5步，且每个环节涉及参数众多，哪怕是要从结果中调用一个模型返回结果，都需要进行5层属性的调用，其内部结构之复杂可见一斑。"
   ]
  },
  {
   "cell_type": "markdown",
   "id": "6fd41c78-fcff-448d-96b3-5fee6ac9c482",
   "metadata": {},
   "source": [
    "<center><img src=\"https://ml2022.oss-cn-hangzhou.aliyuncs.com/img/202311092052834.png\" alt=\"image-20231109205228815\" style=\"zoom:33%;\" />"
   ]
  },
  {
   "cell_type": "markdown",
   "id": "46374524-3d5a-491c-b472-7ce37e7baacf",
   "metadata": {},
   "source": [
    "因此，本教程将拆分Assistant API的各部分功能进行分别介绍，公开课目录如下："
   ]
  },
  {
   "cell_type": "markdown",
   "id": "994183bc-072d-450d-a6ee-a4e526b021e9",
   "metadata": {},
   "source": [
    "- **Part 1.Assistant API功能介绍与基本调用方法**：将重点介绍Assistant API核心功能、OpenAI环境准备、GPT系列模型基本调用流程、以及跑通一次最简单的Assistant API对话调用；\n",
    "- **Part 2.Assistant API代码解释器及文本信息提取功能**：第二部分将重点介绍如何在Assistant API中加入外部工具，及尝试调用Assistant中已经集成的代码解释器功能（Code interpreter）和海量文本信息提取功能（Knowledge retrieval），同时介绍如何借助这些功能实现实时长文本信息提取，以及数据分析功能；\n",
    "- **Part 3.Assistant API各模型调用方法**：将重点介绍如何在Assistant API中调用各不同模型，包括对话模型、多模态模型、TTS模型、DALL·E 3模型等，以完成不同类型任务；\n",
    "- **Part 4.Assistant API中Function calling功能实现**：将重点介绍如何在Assistant API中通过Function calling来调用自定义的外部函数工具，同时介绍能应用于Function calling的外部函数工具编写方法，以及尝试实现Assistant API的多工具同步执行的功能。"
   ]
  },
  {
   "cell_type": "markdown",
   "id": "045bf364-7ca3-42ae-8294-4fe4c6dc7009",
   "metadata": {},
   "source": [
    "此外，我还开设了《大模型实战课程》付费课程，付费版《大模型实战课程》为80+小时体系大课，完整涵盖GPT大模型技术模块、Function calling与Agent开发技术模块、开源大模型安装部署与应用模块、大模型微调与企业级实战案例5大模块，以及不定期前言技术内容加餐，零基础入门，直击大模型技术最前沿！"
   ]
  },
  {
   "cell_type": "markdown",
   "id": "44f7084c-9ab9-4d66-9f8f-a832c077d393",
   "metadata": {},
   "source": [
    "<center><img src=\"https://ml2022.oss-cn-hangzhou.aliyuncs.com/img/ab06dde844bd6742a186f690cdb5760.png\" alt=\"ab06dde844bd6742a186f690cdb5760\" style=\"zoom:50%;\" />"
   ]
  },
  {
   "cell_type": "markdown",
   "id": "fc2e5a6c-cf31-4e0a-b443-927a50d3aeb1",
   "metadata": {},
   "source": [
    "**<center><span style=\"color:red\"> >>> 扫码添加客服小可爱(微信：littlecat_1207)</span>**\n",
    "**<center><span style=\"color:red\">>>> 回复“LLM”，领取公开课课件</span>**\n",
    "    **<center><span style=\"color:red\">>>> 回复“大模型”，详询完整版付费课程信息</span>**\n"
   ]
  },
  {
   "cell_type": "markdown",
   "id": "926a0598-b030-4a9c-881e-2dae7d073c41",
   "metadata": {},
   "source": [
    "&emsp;&emsp;《大模型实战课程》最新增加GPT-4-vision多模态模型实战、Assistant API Agent开发实战，以及ChatGLM3模型介绍等最新内容。相比Assistant API公开课，完整版课程包含更加完整详细的参数解释和流程介绍、更加复杂的线程控制手段、更多Function calling外部工具函数编写、Agent开发的工程化方法以及企业级的Agent开发项目等。下图为某企业级Agent开发案例："
   ]
  },
  {
   "cell_type": "markdown",
   "id": "5b23cd4c-d75d-40a7-b985-34769f4c100a",
   "metadata": {},
   "source": [
    "<center><center><img src=\"https://ml2022.oss-cn-hangzhou.aliyuncs.com/img/202310292019679.png\" alt=\"Code AI Agent架构图\" style=\"zoom:90%;\" />"
   ]
  },
  {
   "cell_type": "markdown",
   "id": "51d264fa-4846-41ab-bb00-37e62bc314e9",
   "metadata": {},
   "source": [
    "#### 2.1 新版OpenAI库安装与API-Key获取"
   ]
  },
  {
   "cell_type": "markdown",
   "id": "c73f44b5-f537-419f-a050-4a51abb2b307",
   "metadata": {},
   "source": [
    "&emsp;&emsp;要使用OpenAI的Assistant API，首先需要安装openai库，并且拥有一个OpenAI开发者账号，此过程需要一些魔法，魔法内容需要大家自行搜索解决。"
   ]
  },
  {
   "cell_type": "markdown",
   "id": "7cb18c43-d45e-4324-ad06-a59139d940b7",
   "metadata": {},
   "source": [
    "- OpenAI库的安装与更新"
   ]
  },
  {
   "cell_type": "markdown",
   "id": "aff22c36-1644-40f6-a0bb-65f595bc9d5e",
   "metadata": {},
   "source": [
    "&emsp;&emsp;首先关于openai库的安装与更新，首次openai的同学可以通过pip方式进行安装："
   ]
  },
  {
   "cell_type": "code",
   "execution_count": null,
   "id": "b42c2eba-84b1-4043-b809-db5770bc56a6",
   "metadata": {},
   "outputs": [],
   "source": [
    "%run pip install openai"
   ]
  },
  {
   "cell_type": "markdown",
   "id": "acb1bd18-e433-4860-8c3e-bde2c18ab11d",
   "metadata": {},
   "source": [
    "而在安装过程中需要注意，目前openai库包含两个稳定版本，其一为0.28.1，其二为1.1.1，其中官方建议使用1.1.1版本openai库以获得最佳性能。因此安装完成后可以通过如下方式查看openai版本："
   ]
  },
  {
   "cell_type": "code",
   "execution_count": 1,
   "id": "f2ed05b2-99c1-4664-a026-29da4ba350d1",
   "metadata": {
    "tags": []
   },
   "outputs": [
    {
     "data": {
      "text/plain": [
       "'1.1.1'"
      ]
     },
     "execution_count": 1,
     "metadata": {},
     "output_type": "execute_result"
    }
   ],
   "source": [
    "import openai\n",
    "openai.__version__"
   ]
  },
  {
   "cell_type": "markdown",
   "id": "d2951068-8442-4d0c-a6b7-b3d77259cb4a",
   "metadata": {},
   "source": [
    "若低于1.0版，则需要先升级pip，然后再升级openai库。可以按照如下命令运行："
   ]
  },
  {
   "cell_type": "code",
   "execution_count": null,
   "id": "ee19fe09-3a1e-4eac-b131-be87721697e7",
   "metadata": {},
   "outputs": [],
   "source": [
    "%run pip install --upgrade pip"
   ]
  },
  {
   "cell_type": "code",
   "execution_count": null,
   "id": "17ba29e1-5668-40e4-8e6d-4e2015016c91",
   "metadata": {},
   "outputs": [],
   "source": [
    "%run pip install --upgrade openai"
   ]
  },
  {
   "cell_type": "markdown",
   "id": "392e969c-1280-451a-bd4d-b15a2379e20a",
   "metadata": {},
   "source": [
    "- OpenAI账号注册与API Key获取"
   ]
  },
  {
   "cell_type": "markdown",
   "id": "3e23b82f-0492-40c4-87e3-aa0ca8d6a212",
   "metadata": {},
   "source": [
    "&emsp;&emsp;目前OpenAI账号注册及获取API Key有一定困难，推荐可以在某宝上搜索3.5 API或4.0 API，即可获得解决方案。"
   ]
  },
  {
   "cell_type": "markdown",
   "id": "db7d92ed-5f1a-4235-9329-3c719c8e16e6",
   "metadata": {},
   "source": [
    "&emsp;&emsp;而在获得了OpenAI账号之后，接下来则需要获取API-Key，作为每位用户单独的身份认证，也就是API-Keys，我们在openai主页https://platform.openai.com/ 中心可以创建和查看已经创建的openai的AIP keys。注意API-Key是调用模型和扣费的依据，各人需要妥善报关API-Key，防止被盗用从而造成不必要的经济损失。而如果API-Key被盗，也可以停止原有的API-Key，并创建新的Key。"
   ]
  },
  {
   "cell_type": "markdown",
   "id": "4ee0d158-4211-4292-826d-9803a73e899f",
   "metadata": {},
   "source": [
    "<center><img src=\"https://ml2022.oss-cn-hangzhou.aliyuncs.com/img/202311092213131.png\" alt=\"16edc444efb4230404b06826fa911fe\" style=\"zoom:25%;\" />"
   ]
  },
  {
   "cell_type": "markdown",
   "id": "f1365654-bf44-4597-96ef-7c9d9f5d450a",
   "metadata": {},
   "source": [
    "<center><img src=\"https://ml2022.oss-cn-hangzhou.aliyuncs.com/img/202311092213757.png\" alt=\"4c36e0872c7f2b683c11fd063ade742\" style=\"zoom:25%;\" />"
   ]
  },
  {
   "cell_type": "markdown",
   "id": "a4896d5e-d7ea-48ba-97ec-0a2cde3494c7",
   "metadata": {},
   "source": [
    "<center><img src=\"http://ml2022.oss-cn-hangzhou.aliyuncs.com/img/image-20230213225241964.png\" alt=\"image-20230213225241964\" style=\"zoom:33%;\" />"
   ]
  },
  {
   "cell_type": "markdown",
   "id": "e979730d-4bbc-474a-ae94-ac13381661b9",
   "metadata": {},
   "source": [
    "&emsp;&emsp;为了更加方便的调用API-Key以及在代码中隐藏API-Key，我们可以将其设置为系统环境变量，从而后续可以直接以调用变量名称的形式调用API-Key。"
   ]
  },
  {
   "cell_type": "markdown",
   "id": "d77dc4a2-69b8-4bc7-a579-e74727994294",
   "metadata": {},
   "source": [
    "首先打开系统环境变量面板："
   ]
  },
  {
   "cell_type": "markdown",
   "id": "174f9889-ab02-45d1-bf3e-7cefb7e966ea",
   "metadata": {},
   "source": [
    "<center><img src=\"http://ml2022.oss-cn-hangzhou.aliyuncs.com/img/image-20230213225417208.png\" alt=\"image-20230213225417208\" style=\"zoom:50%;\" />"
   ]
  },
  {
   "cell_type": "markdown",
   "id": "7f8f9097-26b7-461c-aaaa-d4ca5af4d914",
   "metadata": {},
   "source": [
    "点击环境变量"
   ]
  },
  {
   "cell_type": "markdown",
   "id": "a1de676f-4486-4081-8991-15eba6a52683",
   "metadata": {},
   "source": [
    "<center><img src=\"http://ml2022.oss-cn-hangzhou.aliyuncs.com/img/image-20230213225515196.png\" alt=\"image-20230213225515196\" style=\"zoom:33%;\" />"
   ]
  },
  {
   "cell_type": "markdown",
   "id": "2ba8c78c-ec4a-46b4-884c-fed69cfdabfa",
   "metadata": {},
   "source": [
    "点击新建系统变量："
   ]
  },
  {
   "cell_type": "markdown",
   "id": "f9e67fdc-eaa9-486d-9487-7466fdf991df",
   "metadata": {},
   "source": [
    "<center><img src=\"http://ml2022.oss-cn-hangzhou.aliyuncs.com/img/image-20230213225730721.png\" alt=\"image-20230213225730721\" style=\"zoom:33%;\" />"
   ]
  },
  {
   "cell_type": "markdown",
   "id": "4096f045-07ee-433c-81d9-f56bbde7664f",
   "metadata": {},
   "source": [
    "设置环境变量。这里变量名可以统一设置为OPENAI_API_KEY，而变量值就是刚刚我们复制的API-Key。"
   ]
  },
  {
   "cell_type": "markdown",
   "id": "28e74c19-981a-4cd7-ae60-fdb61b4fbfd6",
   "metadata": {},
   "source": [
    "<center><img src=\"http://ml2022.oss-cn-hangzhou.aliyuncs.com/img/image-20230213225921669.png\" alt=\"image-20230213225921669\" style=\"zoom:33%;\" />"
   ]
  },
  {
   "cell_type": "markdown",
   "id": "b048d719-c7f3-47f0-bccc-fe8d669ad073",
   "metadata": {},
   "source": [
    "保存重启电脑，方可使环境变量生效。"
   ]
  },
  {
   "cell_type": "markdown",
   "id": "cf99291f-2a75-4b7e-b166-a9dbb002fd55",
   "metadata": {},
   "source": [
    "&emsp;&emsp;重启电脑后，我们即可启动Jupyter测试能否在Jupyter环境下调用OpenAI大模型API。不过这里仍然需要注意的是，对于国内用户，是无法直接访问OpenAI的，需要让Jupyter在代理环境下启动，即需要令Jupyter可以通过代理来访问网络。具体设置方法如下："
   ]
  },
  {
   "cell_type": "markdown",
   "id": "72841644-f943-4953-aece-20344c5e6241",
   "metadata": {},
   "source": [
    "&emsp;&emsp;首先，启动魔法并设置全局代理模型。并查看代理服务器的地址和端口，例如服务器代理端口如下："
   ]
  },
  {
   "cell_type": "markdown",
   "id": "b48fa771-7845-4b66-853f-1c8a0ecfa0e8",
   "metadata": {},
   "source": [
    "<center><img src=\"https://ml2022.oss-cn-hangzhou.aliyuncs.com/img/1f58255ce45ecab09106be6deab4883.jpg\" alt=\"1f58255ce45ecab09106be6deab4883\" style=\"zoom:33%;\" />"
   ]
  },
  {
   "cell_type": "markdown",
   "id": "0ed88ee0-7ff9-43ea-b2de-1f1d3d684dca",
   "metadata": {},
   "source": [
    "而对于代理地址，其实大多数代理都是借助本地回环进行代理，即127.0.0.1，因此当前魔法的代理地址和端口为：127.0.0.1:2022。"
   ]
  },
  {
   "cell_type": "markdown",
   "id": "6bc7bc87-6cb8-492e-a5e3-76beafc99029",
   "metadata": {},
   "source": [
    "&emsp;&emsp;而如何让Jupyter通过代理方式访问网络，最简单的方法就是利用cmd命令行启动jupyter。这里我们同时输入win+R开启运行页面，并在打开一栏中输入cmd并回车即可进入命令行："
   ]
  },
  {
   "cell_type": "markdown",
   "id": "9b07013d-8329-4f6c-85aa-49c2e35110b4",
   "metadata": {},
   "source": [
    "<center><img src=\"https://ml2022.oss-cn-hangzhou.aliyuncs.com/img/7c548c1916df4da063445469a0a3284.png\" alt=\"7c548c1916df4da063445469a0a3284\" style=\"zoom:33%;\" />"
   ]
  },
  {
   "cell_type": "markdown",
   "id": "54df32b5-7b60-4ac2-a94c-e1e079be26a4",
   "metadata": {},
   "source": [
    "然后在命令行中启动Jupyter，并且每次启动前输入代理环境设置，即按照如下命令顺序启动Jupyter：       "
   ]
  },
  {
   "cell_type": "code",
   "execution_count": null,
   "id": "669f0380-5a39-4c5d-84c1-09bfd786cfd7",
   "metadata": {},
   "outputs": [],
   "source": [
    "!set HTTP_PROXY=http://127.0.0.1:2022          \n",
    "!set HTTPS_PROXY=http://127.0.0.1:2022     \n",
    "!jupyter lab"
   ]
  },
  {
   "cell_type": "markdown",
   "id": "099b7d1f-4495-4dc2-8ae2-0a031b15243a",
   "metadata": {},
   "source": [
    "<center><img src=\"https://ml2022.oss-cn-hangzhou.aliyuncs.com/img/d301387de8e74d76c272cf20c36d527.png\" alt=\"d301387de8e74d76c272cf20c36d527\" style=\"zoom: 50%;\" />"
   ]
  },
  {
   "cell_type": "markdown",
   "id": "944d3046-6691-4955-96a9-495af0198664",
   "metadata": {},
   "source": [
    "- 在Jupyter中调用OpenAI API"
   ]
  },
  {
   "cell_type": "markdown",
   "id": "0a4e547b-f82e-44bb-924d-b987849002f1",
   "metadata": {},
   "source": [
    "&emsp;&emsp;顺利启动Jupyter之后，即可测试能否顺利调用OpenAI大模型，测试代码如下："
   ]
  },
  {
   "cell_type": "code",
   "execution_count": 2,
   "id": "aafa0830-0604-4866-b5b9-db050e74f59a",
   "metadata": {
    "tags": []
   },
   "outputs": [],
   "source": [
    "import os\n",
    "import openai"
   ]
  },
  {
   "cell_type": "code",
   "execution_count": 3,
   "id": "950ec418-056b-4d81-8d6e-20fd22a95b94",
   "metadata": {
    "tags": []
   },
   "outputs": [],
   "source": [
    "openai.api_key = os.getenv(\"OPENAI_API_KEY\")"
   ]
  },
  {
   "cell_type": "code",
   "execution_count": 4,
   "id": "ffba76bb-67f9-4f4d-9ce5-e28d249ad6f8",
   "metadata": {
    "tags": []
   },
   "outputs": [],
   "source": [
    "from openai import OpenAI\n",
    "client = OpenAI()\n",
    "response = client.chat.completions.create(\n",
    "  model=\"gpt-3.5-turbo-1106\",\n",
    "  messages=[\n",
    "    {\"role\": \"user\", \"content\": \"你好\"}\n",
    "  ]\n",
    ")"
   ]
  },
  {
   "cell_type": "code",
   "execution_count": 5,
   "id": "58459d43-7b6e-4f7b-ae81-4c9ac1f0a495",
   "metadata": {
    "tags": []
   },
   "outputs": [
    {
     "data": {
      "text/plain": [
       "'你好！有什么可以帮助你的吗？'"
      ]
     },
     "execution_count": 5,
     "metadata": {},
     "output_type": "execute_result"
    }
   ],
   "source": [
    "response.choices[0].message.content"
   ]
  },
  {
   "cell_type": "markdown",
   "id": "f45e0996-7b96-46a7-a87d-856dd4ab4667",
   "metadata": {},
   "source": [
    "若能顺利运行，则说明当前已经能够连接OpenAI服务器。"
   ]
  },
  {
   "cell_type": "markdown",
   "id": "6f23d665-ecbc-445e-a674-a92a90bffc79",
   "metadata": {},
   "source": [
    "&emsp;&emsp;此外，需要注意的是，目前OpenAI并未对免费用户开放GPT-4的权限，因此若要体验Assistant API功能，则只能调用gpt-3.5-turbo-1106模型，且无法调用gpt-4-vision-preview等多模态模型。这里若想调用更多模型，可以考虑在某宝上搜4.0 API或4.0 PLUS，以获得解决方案。"
   ]
  },
  {
   "cell_type": "markdown",
   "id": "87096d69-6e9e-41ab-acc9-88ced6b4f8a8",
   "metadata": {},
   "source": [
    "#### 2.2 Assistant API调用基本流程"
   ]
  },
  {
   "cell_type": "markdown",
   "id": "be439634-a94b-4ec5-ae19-5317b1897d8a",
   "metadata": {},
   "source": [
    "&emsp;&emsp;在准备好基本运行环境之后，接下来我们尝试先创建一个非常简单的Assistant API来完成一次对话，从本质上来说，Assistant API的交互逻辑和此前我们看到的gpt-3.5-turbo-1106模型的对话逻辑几乎一样，都是用户和大模型之间进行消息交互，只不过Assistant API交互的方式会更加灵活，交互的信息也不止是文本类信息。本节的最后，我们尝试跑通一个Assistant API调用，并完成一次打招呼的对话。"
   ]
  },
  {
   "cell_type": "markdown",
   "id": "ed4b005f-c915-4d08-9821-813660d66d57",
   "metadata": {},
   "source": [
    "- Step 1: 创建一个assistants对象"
   ]
  },
  {
   "cell_type": "code",
   "execution_count": 7,
   "id": "b3743524-6a84-4b19-b80e-bd1acc00eab5",
   "metadata": {
    "tags": []
   },
   "outputs": [],
   "source": [
    "client = OpenAI()\n",
    "assistant = client.beta.assistants.create(\n",
    "    model=\"gpt-4-1106-preview\"\n",
    ")"
   ]
  },
  {
   "cell_type": "code",
   "execution_count": 8,
   "id": "7571222d-6835-42d6-b110-786e49c99351",
   "metadata": {
    "tags": []
   },
   "outputs": [
    {
     "data": {
      "text/plain": [
       "Assistant(id='asst_vJsb9krbsFXSgEMyzj1XkNqF', created_at=1699539573, description=None, file_ids=[], instructions=None, metadata={}, model='gpt-4-1106-preview', name=None, object='assistant', tools=[])"
      ]
     },
     "execution_count": 8,
     "metadata": {},
     "output_type": "execute_result"
    }
   ],
   "source": [
    "assistant"
   ]
  },
  {
   "cell_type": "code",
   "execution_count": 9,
   "id": "44c016c6-85e0-440d-bf88-d9bf37e93b0c",
   "metadata": {
    "tags": []
   },
   "outputs": [
    {
     "data": {
      "text/plain": [
       "openai.types.beta.assistant.Assistant"
      ]
     },
     "execution_count": 9,
     "metadata": {},
     "output_type": "execute_result"
    }
   ],
   "source": [
    "type(assistant)"
   ]
  },
  {
   "cell_type": "markdown",
   "id": "68c68802-ef4f-43d3-9ae6-1fa49adc8018",
   "metadata": {},
   "source": [
    "在创建assistant对象时，model参数为必选参数，代表当前调用模型的型号，此外还有name、instructions、tools等参数作为备选参数，用于设置当前assistant的名称、介绍与可调用的外部工具，相关参数的使用方法我们将在下一小节进行介绍。"
   ]
  },
  {
   "cell_type": "markdown",
   "id": "00b801a8-8bdc-4c11-96da-ef3eb08040fb",
   "metadata": {},
   "source": [
    "- Step 2: 创建一个线程"
   ]
  },
  {
   "cell_type": "markdown",
   "id": "1ebe367f-f54e-44b9-9c58-154204388660",
   "metadata": {},
   "source": [
    "&emsp;&emsp;第二步则需要进一步创建一个线程，线程对象是控制assistant运行过程、保留assistant短期记忆的关键对象，是一个持久化的线程，并且该对象在很大程度上还保留了Python中线程对象的一些特性。"
   ]
  },
  {
   "cell_type": "code",
   "execution_count": 10,
   "id": "717e003a-784e-49e0-bc18-4fe3b7c2fbc9",
   "metadata": {
    "tags": []
   },
   "outputs": [],
   "source": [
    "thread = client.beta.threads.create()"
   ]
  },
  {
   "cell_type": "code",
   "execution_count": 11,
   "id": "5715931e-41e7-476e-9dcf-638e91ec5aac",
   "metadata": {
    "tags": []
   },
   "outputs": [
    {
     "data": {
      "text/plain": [
       "Thread(id='thread_L6ENIJ1h8iGjW0q8kDGgIYjQ', created_at=1699539822, metadata={}, object='thread')"
      ]
     },
     "execution_count": 11,
     "metadata": {},
     "output_type": "execute_result"
    }
   ],
   "source": [
    "thread"
   ]
  },
  {
   "cell_type": "code",
   "execution_count": 12,
   "id": "e9c064b2-a876-4643-883b-680b3da3b4f7",
   "metadata": {
    "tags": []
   },
   "outputs": [
    {
     "data": {
      "text/plain": [
       "openai.types.beta.thread.Thread"
      ]
     },
     "execution_count": 12,
     "metadata": {},
     "output_type": "execute_result"
    }
   ],
   "source": [
    "type(thread)"
   ]
  },
  {
   "cell_type": "markdown",
   "id": "b1e76523-6b81-451f-bad5-bcb5b08f6565",
   "metadata": {},
   "source": [
    "- Step 3: 将对话消息添加到线程中"
   ]
  },
  {
   "cell_type": "code",
   "execution_count": 13,
   "id": "281d07da-3758-4b99-af87-50a662d90477",
   "metadata": {
    "tags": []
   },
   "outputs": [],
   "source": [
    "message = client.beta.threads.messages.create(\n",
    "    thread_id=thread.id,\n",
    "    role=\"user\",\n",
    "    content=\"你好呀\"\n",
    ")"
   ]
  },
  {
   "cell_type": "code",
   "execution_count": 15,
   "id": "59598973-6451-4185-9840-2cd7faa56cd8",
   "metadata": {
    "tags": []
   },
   "outputs": [
    {
     "data": {
      "text/plain": [
       "'thread_L6ENIJ1h8iGjW0q8kDGgIYjQ'"
      ]
     },
     "execution_count": 15,
     "metadata": {},
     "output_type": "execute_result"
    }
   ],
   "source": [
    "thread.id"
   ]
  },
  {
   "cell_type": "code",
   "execution_count": 14,
   "id": "63df2c22-c520-43bf-b3dc-79ff7c6f6691",
   "metadata": {
    "tags": []
   },
   "outputs": [
    {
     "data": {
      "text/plain": [
       "ThreadMessage(id='msg_znOBpioAhmejyvPMsX7IBo9U', assistant_id=None, content=[MessageContentText(text=Text(annotations=[], value='你好呀'), type='text')], created_at=1699539873, file_ids=[], metadata={}, object='thread.message', role='user', run_id=None, thread_id='thread_L6ENIJ1h8iGjW0q8kDGgIYjQ')"
      ]
     },
     "execution_count": 14,
     "metadata": {},
     "output_type": "execute_result"
    }
   ],
   "source": [
    "message"
   ]
  },
  {
   "cell_type": "markdown",
   "id": "fdbdbbdb-04a9-4cac-9b7f-a3daa8ba6689",
   "metadata": {},
   "source": [
    "这里我们相当于是创建了一个和线程绑定message，这个message仍然保留了Chat模型多角色对话的基本属性，即需要区分发送消息者（user），以及消息内容（content）。"
   ]
  },
  {
   "cell_type": "markdown",
   "id": "a896ecba-a1df-44c5-9abf-6a5a35fba4f6",
   "metadata": {},
   "source": [
    "而若要从一个message中提取具体的消息内容，则需要通过以下方式实现："
   ]
  },
  {
   "cell_type": "code",
   "execution_count": 16,
   "id": "6701a737-305f-440c-b5a8-c3f6c697eb89",
   "metadata": {
    "tags": []
   },
   "outputs": [
    {
     "data": {
      "text/plain": [
       "[MessageContentText(text=Text(annotations=[], value='你好呀'), type='text')]"
      ]
     },
     "execution_count": 16,
     "metadata": {},
     "output_type": "execute_result"
    }
   ],
   "source": [
    "message.content"
   ]
  },
  {
   "cell_type": "code",
   "execution_count": 17,
   "id": "8cc7c9c4-c45b-478e-b872-8a1d271dd11b",
   "metadata": {
    "tags": []
   },
   "outputs": [
    {
     "data": {
      "text/plain": [
       "MessageContentText(text=Text(annotations=[], value='你好呀'), type='text')"
      ]
     },
     "execution_count": 17,
     "metadata": {},
     "output_type": "execute_result"
    }
   ],
   "source": [
    "message.content[0]"
   ]
  },
  {
   "cell_type": "code",
   "execution_count": 18,
   "id": "73a44ebf-0f0e-4cee-a84f-fbf35510e776",
   "metadata": {
    "tags": []
   },
   "outputs": [
    {
     "data": {
      "text/plain": [
       "Text(annotations=[], value='你好呀')"
      ]
     },
     "execution_count": 18,
     "metadata": {},
     "output_type": "execute_result"
    }
   ],
   "source": [
    "message.content[0].text"
   ]
  },
  {
   "cell_type": "code",
   "execution_count": 19,
   "id": "8140cadc-f04c-4490-82cd-20a8b47592dc",
   "metadata": {
    "tags": []
   },
   "outputs": [
    {
     "data": {
      "text/plain": [
       "'你好呀'"
      ]
     },
     "execution_count": 19,
     "metadata": {},
     "output_type": "execute_result"
    }
   ],
   "source": [
    "message.content[0].text.value"
   ]
  },
  {
   "cell_type": "markdown",
   "id": "5ec7b949-db74-4a76-a8ef-cccf7cb16a91",
   "metadata": {},
   "source": [
    "- Step 4: 设置预运行对象"
   ]
  },
  {
   "cell_type": "markdown",
   "id": "0195bede-0547-4910-aa35-e3e983b273de",
   "metadata": {},
   "source": [
    "&emsp;&emsp;而在创建完一个包含message的线程之后，接下来即可创建一个run对象。所谓run对象，其实可以将其理解为用于抽象表示线程状态的对象，创建run对象则代表某assistant的某个线程进入到准备运行的状态。当然，我们也可以将run对象理解为assistant内部任务分配对象，当创建一个run对象时，则代表接下来准备执行某任务。"
   ]
  },
  {
   "cell_type": "markdown",
   "id": "94d77ec7-ebc5-4b2b-b827-6a9d6ededdd5",
   "metadata": {},
   "source": [
    "这里可以采用threads.runs.create来创建一个run独享："
   ]
  },
  {
   "cell_type": "code",
   "execution_count": 20,
   "id": "eeb0e47e-5b4b-4d9f-a4c6-e45ca03ee398",
   "metadata": {
    "tags": []
   },
   "outputs": [],
   "source": [
    "run = client.beta.threads.runs.create(\n",
    "  thread_id=thread.id,\n",
    "  assistant_id=assistant.id,\n",
    ")"
   ]
  },
  {
   "cell_type": "code",
   "execution_count": 21,
   "id": "37a80ef9-4ce5-4853-95fd-3878cf017163",
   "metadata": {
    "tags": []
   },
   "outputs": [
    {
     "data": {
      "text/plain": [
       "Run(id='run_WlomkorypPdkcp6CuCTMsnm2', assistant_id='asst_vJsb9krbsFXSgEMyzj1XkNqF', cancelled_at=None, completed_at=None, created_at=1699540035, expires_at=1699540635, failed_at=None, file_ids=[], instructions=None, last_error=None, metadata={}, model='gpt-4-1106-preview', object='thread.run', required_action=None, started_at=None, status='queued', thread_id='thread_L6ENIJ1h8iGjW0q8kDGgIYjQ', tools=[])"
      ]
     },
     "execution_count": 21,
     "metadata": {},
     "output_type": "execute_result"
    }
   ],
   "source": [
    "run"
   ]
  },
  {
   "cell_type": "code",
   "execution_count": 30,
   "id": "3871403a-ecdb-4bfc-accc-a1e46c04d200",
   "metadata": {
    "tags": []
   },
   "outputs": [
    {
     "data": {
      "text/plain": [
       "openai.types.beta.threads.run.Run"
      ]
     },
     "execution_count": 30,
     "metadata": {},
     "output_type": "execute_result"
    }
   ],
   "source": [
    "type(run)"
   ]
  },
  {
   "cell_type": "markdown",
   "id": "ae771e0a-751c-40d9-b8ee-86a1f5965295",
   "metadata": {},
   "source": [
    "而在创建完一个run对象之后，该对象并不会直接运行，而是会出于等待运行的状态："
   ]
  },
  {
   "cell_type": "code",
   "execution_count": 23,
   "id": "5eaa2772-bdd3-4c54-a8ab-6dfe194e40b8",
   "metadata": {
    "tags": []
   },
   "outputs": [
    {
     "data": {
      "text/plain": [
       "'queued'"
      ]
     },
     "execution_count": 23,
     "metadata": {},
     "output_type": "execute_result"
    }
   ],
   "source": [
    "run.status"
   ]
  },
  {
   "cell_type": "markdown",
   "id": "21acf249-441c-458c-932c-7b3a4c32c0de",
   "metadata": {},
   "source": [
    "此时我们只有run一个run对象，才能修改其状态。当一个run对象10分钟内没有被run，则会出于过期状态。不同这里进一步细分run对象的不同状态，其本质也是为了开发者能够更好的管理一个assistant的运行状态。"
   ]
  },
  {
   "cell_type": "code",
   "execution_count": 24,
   "id": "479f7e1a-504f-4d46-bcf8-5ad0615c982e",
   "metadata": {
    "tags": []
   },
   "outputs": [
    {
     "data": {
      "text/plain": [
       "'run_WlomkorypPdkcp6CuCTMsnm2'"
      ]
     },
     "execution_count": 24,
     "metadata": {},
     "output_type": "execute_result"
    }
   ],
   "source": [
    "run.id"
   ]
  },
  {
   "cell_type": "markdown",
   "id": "e8c1efa3-a728-44d4-a16c-67d43bb6e6d4",
   "metadata": {},
   "source": [
    "- Step 5.完成线程运行"
   ]
  },
  {
   "cell_type": "markdown",
   "id": "2b361375-cbe8-45b2-929e-ce51fb0aeffa",
   "metadata": {},
   "source": [
    "&emsp;&emsp;接下来我们就尝试运行当前这个线程，即调用threads.runs.retrieve方法来完成某个run对象的执行："
   ]
  },
  {
   "cell_type": "code",
   "execution_count": 26,
   "id": "3e3fbbc0-c86a-4c1a-9eab-8b2d27ca7a84",
   "metadata": {
    "tags": []
   },
   "outputs": [],
   "source": [
    "run = client.beta.threads.runs.retrieve(\n",
    "  thread_id=thread.id,\n",
    "  run_id=run.id\n",
    ")"
   ]
  },
  {
   "cell_type": "code",
   "execution_count": 27,
   "id": "9416a08b-b8dd-4331-aedc-a6c3a09627c8",
   "metadata": {
    "tags": []
   },
   "outputs": [
    {
     "data": {
      "text/plain": [
       "Run(id='run_WlomkorypPdkcp6CuCTMsnm2', assistant_id='asst_vJsb9krbsFXSgEMyzj1XkNqF', cancelled_at=None, completed_at=1699540037, created_at=1699540035, expires_at=None, failed_at=None, file_ids=[], instructions=None, last_error=None, metadata={}, model='gpt-4-1106-preview', object='thread.run', required_action=None, started_at=1699540035, status='completed', thread_id='thread_L6ENIJ1h8iGjW0q8kDGgIYjQ', tools=[])"
      ]
     },
     "execution_count": 27,
     "metadata": {},
     "output_type": "execute_result"
    }
   ],
   "source": [
    "run"
   ]
  },
  {
   "cell_type": "markdown",
   "id": "ef8217da-daa0-4a68-8737-ade0d03d79f9",
   "metadata": {},
   "source": [
    "执行完毕后，run对象状态如下："
   ]
  },
  {
   "cell_type": "code",
   "execution_count": 28,
   "id": "93b3c939-d806-4ab4-a65d-43b6b5e9be43",
   "metadata": {
    "tags": []
   },
   "outputs": [
    {
     "data": {
      "text/plain": [
       "'completed'"
      ]
     },
     "execution_count": 28,
     "metadata": {},
     "output_type": "execute_result"
    }
   ],
   "source": [
    "run.status"
   ]
  },
  {
   "cell_type": "code",
   "execution_count": 29,
   "id": "e8570b73-e85c-4402-8497-f1a53ea59b18",
   "metadata": {
    "tags": []
   },
   "outputs": [
    {
     "data": {
      "text/plain": [
       "'run_WlomkorypPdkcp6CuCTMsnm2'"
      ]
     },
     "execution_count": 29,
     "metadata": {},
     "output_type": "execute_result"
    }
   ],
   "source": [
    "run.id"
   ]
  },
  {
   "cell_type": "markdown",
   "id": "f8c9295e-65f0-4816-b02e-61aa6625403d",
   "metadata": {},
   "source": [
    "而此时，模型返回的信息就会被保留在此前创建的线程对象thread中："
   ]
  },
  {
   "cell_type": "code",
   "execution_count": 34,
   "id": "41f5ba7d-11f8-4751-ba8c-110ed653e1c3",
   "metadata": {
    "tags": []
   },
   "outputs": [
    {
     "data": {
      "text/plain": [
       "Thread(id='thread_L6ENIJ1h8iGjW0q8kDGgIYjQ', created_at=1699539822, metadata={}, object='thread')"
      ]
     },
     "execution_count": 34,
     "metadata": {},
     "output_type": "execute_result"
    }
   ],
   "source": [
    "thread"
   ]
  },
  {
   "cell_type": "code",
   "execution_count": 33,
   "id": "fe4c4284-bdef-4fc5-954b-d3d4f229017c",
   "metadata": {
    "tags": []
   },
   "outputs": [
    {
     "data": {
      "text/plain": [
       "[MessageContentText(text=Text(annotations=[], value='你好呀'), type='text')]"
      ]
     },
     "execution_count": 33,
     "metadata": {},
     "output_type": "execute_result"
    }
   ],
   "source": [
    "message.content"
   ]
  },
  {
   "cell_type": "markdown",
   "id": "96a8dae4-e9cb-4583-b766-12d17562a4d0",
   "metadata": {},
   "source": [
    "而要提取thread中保留的模型返回结果，则需要采用threads.messages.list方法进行提取："
   ]
  },
  {
   "cell_type": "code",
   "execution_count": 35,
   "id": "2c43d70b-ef3f-4365-8a1b-d9300c1e00a8",
   "metadata": {
    "tags": []
   },
   "outputs": [],
   "source": [
    "messages = client.beta.threads.messages.list(\n",
    "  thread_id=thread.id\n",
    ")"
   ]
  },
  {
   "cell_type": "code",
   "execution_count": 38,
   "id": "6429b405-7452-4166-90f0-e588abb617c6",
   "metadata": {
    "tags": []
   },
   "outputs": [
    {
     "data": {
      "text/plain": [
       "[ThreadMessage(id='msg_HhdOmzwxPYtL4GHyPhu7VQCM', assistant_id='asst_vJsb9krbsFXSgEMyzj1XkNqF', content=[MessageContentText(text=Text(annotations=[], value='你好！很高兴见到你。有什么问题或者话题需要探讨吗？我在这里帮助你。'), type='text')], created_at=1699540036, file_ids=[], metadata={}, object='thread.message', role='assistant', run_id='run_WlomkorypPdkcp6CuCTMsnm2', thread_id='thread_L6ENIJ1h8iGjW0q8kDGgIYjQ'),\n",
       " ThreadMessage(id='msg_znOBpioAhmejyvPMsX7IBo9U', assistant_id=None, content=[MessageContentText(text=Text(annotations=[], value='你好呀'), type='text')], created_at=1699539873, file_ids=[], metadata={}, object='thread.message', role='user', run_id=None, thread_id='thread_L6ENIJ1h8iGjW0q8kDGgIYjQ')]"
      ]
     },
     "execution_count": 38,
     "metadata": {},
     "output_type": "execute_result"
    }
   ],
   "source": [
    "messages.data"
   ]
  },
  {
   "cell_type": "code",
   "execution_count": 39,
   "id": "3e7aa505-95c2-43c8-92b5-5b253865c8a1",
   "metadata": {
    "tags": []
   },
   "outputs": [
    {
     "data": {
      "text/plain": [
       "2"
      ]
     },
     "execution_count": 39,
     "metadata": {},
     "output_type": "execute_result"
    }
   ],
   "source": [
    "len(messages.data)"
   ]
  },
  {
   "cell_type": "markdown",
   "id": "ebbaf826-5f4f-4d5a-ab5b-631edb9edf22",
   "metadata": {},
   "source": [
    "此时即可解析大模型返回的结果："
   ]
  },
  {
   "cell_type": "code",
   "execution_count": 43,
   "id": "7bbcb990-0268-4d21-b6bb-7f97292cae74",
   "metadata": {
    "tags": []
   },
   "outputs": [
    {
     "data": {
      "text/plain": [
       "[MessageContentText(text=Text(annotations=[], value='你好呀'), type='text')]"
      ]
     },
     "execution_count": 43,
     "metadata": {},
     "output_type": "execute_result"
    }
   ],
   "source": [
    "messages.data[1].content"
   ]
  },
  {
   "cell_type": "code",
   "execution_count": 42,
   "id": "71341f5d-85bf-42ce-a328-5904a13fd977",
   "metadata": {
    "tags": []
   },
   "outputs": [
    {
     "data": {
      "text/plain": [
       "[MessageContentText(text=Text(annotations=[], value='你好！很高兴见到你。有什么问题或者话题需要探讨吗？我在这里帮助你。'), type='text')]"
      ]
     },
     "execution_count": 42,
     "metadata": {},
     "output_type": "execute_result"
    }
   ],
   "source": [
    "messages.data[0].content"
   ]
  },
  {
   "cell_type": "markdown",
   "id": "8153d012-d250-42d7-b195-20903308d4a7",
   "metadata": {},
   "source": [
    "至此，我们就完成了一次Assistant API的调用。"
   ]
  },
  {
   "cell_type": "markdown",
   "id": "025e84c3-6690-4f9c-8912-dcdab8b572b7",
   "metadata": {},
   "source": [
    "- 为何Assistant API对话效果更加复杂"
   ]
  },
  {
   "cell_type": "markdown",
   "id": "ac50ca67-61e7-4a10-99cf-5600a28bf34e",
   "metadata": {},
   "source": [
    "&emsp;&emsp;当然，相信用不少小伙伴看到这里会觉得Assistant API的调用远比Chat模型调用更加复杂，需要解释的是，这种更加复杂的设定，其实都是为了能够更加顺利的构建一个稳定的Agent应用。举个例子，当一个班只有几十号人的时候，我们用人名即可确定每个人的身份，而如果是全国十几亿人，则需要通过更加复杂的身份证来验证人的身份。"
   ]
  },
  {
   "cell_type": "markdown",
   "id": "25338178-ac03-41d6-9b84-e73e74a6eacf",
   "metadata": {},
   "source": [
    "&emsp;&emsp;而对于Assistant API，其执行流程中拆解的每一步其实都是至关重要的，例如为何要区分message对象和thread对象，其实是为了更好的管理模型的短期记忆；而为何需要在大模型的外层再创建一个assistant对象，则是为了摆脱在以往的Agent构建过程中，“记忆是模型功能唯一区分”的困境；而之后的run对象，则是为了更好的控制模型运行流程，以确保能够稳定的获得结果。而在Assistant API出现之前，上述每一点都需要耗费大量的代码才能完成。"
   ]
  },
  {
   "cell_type": "markdown",
   "id": "13186897-33ac-40e4-9d59-6d9cbfb87131",
   "metadata": {},
   "source": [
    "&emsp;&emsp;无论如何，这里我们已经完成了一次Assistant API的调用，在下一小节中，我们将继续在Assistant中加入toole功能，即尝试调用Assistant中已经集成的代码解释器功能（Code interpreter）和海量文本信息提取功能（Knowledge retrieval），同时介绍如何借助这些功能实现实时长文本信息提取，以及如何借助Assistant API快速构建一个数据分析Agent。我们下一小节见！"
   ]
  },
  {
   "cell_type": "markdown",
   "id": "72157310-ea7b-4c68-9677-5a6ca1313955",
   "metadata": {},
   "source": [
    "此外，我还开设了《大模型实战课程》付费课程，付费版《大模型实战课程》为80+小时体系大课，完整涵盖GPT大模型技术模块、Function calling与Agent开发技术模块、开源大模型安装部署与应用模块、大模型微调与企业级实战案例5大模块，以及不定期前言技术内容加餐，零基础入门，直击大模型技术最前沿！"
   ]
  },
  {
   "cell_type": "markdown",
   "id": "eb69f3d4-d8dc-4289-9e07-5c7982dc0080",
   "metadata": {},
   "source": [
    "<center><img src=\"https://ml2022.oss-cn-hangzhou.aliyuncs.com/img/ab06dde844bd6742a186f690cdb5760.png\" alt=\"ab06dde844bd6742a186f690cdb5760\" style=\"zoom:50%;\" />"
   ]
  },
  {
   "cell_type": "markdown",
   "id": "cb3579ce-2914-4de5-ac8b-e8ff2e008277",
   "metadata": {},
   "source": [
    "**<center><span style=\"color:red\"> >>> 扫码添加客服小可爱(微信：littlecat_1207)</span>**\n",
    "**<center><span style=\"color:red\">>>> 回复“LLM”，领取公开课课件</span>**\n",
    "    **<center><span style=\"color:red\">>>> 回复“大模型”，详询完整版付费课程信息</span>**\n"
   ]
  },
  {
   "cell_type": "markdown",
   "id": "ed25d97a-2269-4f74-9648-7acd047eadbc",
   "metadata": {},
   "source": [
    "&emsp;&emsp;《大模型实战课程》最新增加GPT-4-vision多模态模型实战、Assistant API Agent开发实战，以及ChatGLM3模型介绍等最新内容。相比Assistant API公开课，完整版课程包含更加完整详细的参数解释和流程介绍、更加复杂的线程控制手段、更多Function calling外部工具函数编写、Agent开发的工程化方法以及企业级的Agent开发项目等。下图为某企业级Agent开发案例："
   ]
  },
  {
   "cell_type": "markdown",
   "id": "584d4f0c-a673-47a8-98aa-d72da3e0bc74",
   "metadata": {},
   "source": [
    "<center><center><img src=\"https://ml2022.oss-cn-hangzhou.aliyuncs.com/img/202310292019679.png\" alt=\"Code AI Agent架构图\" style=\"zoom:90%;\" />"
   ]
  }
 ],
 "metadata": {
  "kernelspec": {
   "display_name": "Python 3 (ipykernel)",
   "language": "python",
   "name": "python3"
  },
  "language_info": {
   "codemirror_mode": {
    "name": "ipython",
    "version": 3
   },
   "file_extension": ".py",
   "mimetype": "text/x-python",
   "name": "python",
   "nbconvert_exporter": "python",
   "pygments_lexer": "ipython3",
   "version": "3.11.4"
  }
 },
 "nbformat": 4,
 "nbformat_minor": 5
}
